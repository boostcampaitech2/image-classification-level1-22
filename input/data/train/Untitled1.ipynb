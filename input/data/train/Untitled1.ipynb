{
 "cells": [
  {
   "cell_type": "code",
   "execution_count": 1,
   "source": [
    "import numpy as np\n",
    "import pandas as pd\n",
    "import torch\n",
    "import torchvision\n",
    "from torchvision import transforms\n",
    "import matplotlib as mpl\n",
    "import matplotlib.pyplot as plt\n",
    "from PIL import Image"
   ],
   "outputs": [],
   "metadata": {}
  },
  {
   "cell_type": "code",
   "execution_count": 2,
   "source": [
    "df = pd.read_csv('label.csv')\n",
    "df"
   ],
   "outputs": [
    {
     "output_type": "execute_result",
     "data": {
      "text/plain": [
       "       Unnamed: 0               fname                    path  age  gender  \\\n",
       "0               0  incorrect_mask.jpg  000001_female_Asian_45   45  female   \n",
       "1               1           mask1.jpg  000001_female_Asian_45   45  female   \n",
       "2               2           mask2.jpg  000001_female_Asian_45   45  female   \n",
       "3               3           mask3.jpg  000001_female_Asian_45   45  female   \n",
       "4               4           mask4.jpg  000001_female_Asian_45   45  female   \n",
       "...           ...                 ...                     ...  ...     ...   \n",
       "18895       18895           mask2.jpg    006959_male_Asian_19   19    male   \n",
       "18896       18896           mask3.jpg    006959_male_Asian_19   19    male   \n",
       "18897       18897           mask4.jpg    006959_male_Asian_19   19    male   \n",
       "18898       18898           mask5.jpg    006959_male_Asian_19   19    male   \n",
       "18899       18899          normal.jpg    006959_male_Asian_19   19    male   \n",
       "\n",
       "       label  \n",
       "0         10  \n",
       "1          4  \n",
       "2          4  \n",
       "3          4  \n",
       "4          4  \n",
       "...      ...  \n",
       "18895      0  \n",
       "18896      0  \n",
       "18897      0  \n",
       "18898      0  \n",
       "18899     12  \n",
       "\n",
       "[18900 rows x 6 columns]"
      ],
      "text/html": [
       "<div>\n",
       "<style scoped>\n",
       "    .dataframe tbody tr th:only-of-type {\n",
       "        vertical-align: middle;\n",
       "    }\n",
       "\n",
       "    .dataframe tbody tr th {\n",
       "        vertical-align: top;\n",
       "    }\n",
       "\n",
       "    .dataframe thead th {\n",
       "        text-align: right;\n",
       "    }\n",
       "</style>\n",
       "<table border=\"1\" class=\"dataframe\">\n",
       "  <thead>\n",
       "    <tr style=\"text-align: right;\">\n",
       "      <th></th>\n",
       "      <th>Unnamed: 0</th>\n",
       "      <th>fname</th>\n",
       "      <th>path</th>\n",
       "      <th>age</th>\n",
       "      <th>gender</th>\n",
       "      <th>label</th>\n",
       "    </tr>\n",
       "  </thead>\n",
       "  <tbody>\n",
       "    <tr>\n",
       "      <th>0</th>\n",
       "      <td>0</td>\n",
       "      <td>incorrect_mask.jpg</td>\n",
       "      <td>000001_female_Asian_45</td>\n",
       "      <td>45</td>\n",
       "      <td>female</td>\n",
       "      <td>10</td>\n",
       "    </tr>\n",
       "    <tr>\n",
       "      <th>1</th>\n",
       "      <td>1</td>\n",
       "      <td>mask1.jpg</td>\n",
       "      <td>000001_female_Asian_45</td>\n",
       "      <td>45</td>\n",
       "      <td>female</td>\n",
       "      <td>4</td>\n",
       "    </tr>\n",
       "    <tr>\n",
       "      <th>2</th>\n",
       "      <td>2</td>\n",
       "      <td>mask2.jpg</td>\n",
       "      <td>000001_female_Asian_45</td>\n",
       "      <td>45</td>\n",
       "      <td>female</td>\n",
       "      <td>4</td>\n",
       "    </tr>\n",
       "    <tr>\n",
       "      <th>3</th>\n",
       "      <td>3</td>\n",
       "      <td>mask3.jpg</td>\n",
       "      <td>000001_female_Asian_45</td>\n",
       "      <td>45</td>\n",
       "      <td>female</td>\n",
       "      <td>4</td>\n",
       "    </tr>\n",
       "    <tr>\n",
       "      <th>4</th>\n",
       "      <td>4</td>\n",
       "      <td>mask4.jpg</td>\n",
       "      <td>000001_female_Asian_45</td>\n",
       "      <td>45</td>\n",
       "      <td>female</td>\n",
       "      <td>4</td>\n",
       "    </tr>\n",
       "    <tr>\n",
       "      <th>...</th>\n",
       "      <td>...</td>\n",
       "      <td>...</td>\n",
       "      <td>...</td>\n",
       "      <td>...</td>\n",
       "      <td>...</td>\n",
       "      <td>...</td>\n",
       "    </tr>\n",
       "    <tr>\n",
       "      <th>18895</th>\n",
       "      <td>18895</td>\n",
       "      <td>mask2.jpg</td>\n",
       "      <td>006959_male_Asian_19</td>\n",
       "      <td>19</td>\n",
       "      <td>male</td>\n",
       "      <td>0</td>\n",
       "    </tr>\n",
       "    <tr>\n",
       "      <th>18896</th>\n",
       "      <td>18896</td>\n",
       "      <td>mask3.jpg</td>\n",
       "      <td>006959_male_Asian_19</td>\n",
       "      <td>19</td>\n",
       "      <td>male</td>\n",
       "      <td>0</td>\n",
       "    </tr>\n",
       "    <tr>\n",
       "      <th>18897</th>\n",
       "      <td>18897</td>\n",
       "      <td>mask4.jpg</td>\n",
       "      <td>006959_male_Asian_19</td>\n",
       "      <td>19</td>\n",
       "      <td>male</td>\n",
       "      <td>0</td>\n",
       "    </tr>\n",
       "    <tr>\n",
       "      <th>18898</th>\n",
       "      <td>18898</td>\n",
       "      <td>mask5.jpg</td>\n",
       "      <td>006959_male_Asian_19</td>\n",
       "      <td>19</td>\n",
       "      <td>male</td>\n",
       "      <td>0</td>\n",
       "    </tr>\n",
       "    <tr>\n",
       "      <th>18899</th>\n",
       "      <td>18899</td>\n",
       "      <td>normal.jpg</td>\n",
       "      <td>006959_male_Asian_19</td>\n",
       "      <td>19</td>\n",
       "      <td>male</td>\n",
       "      <td>12</td>\n",
       "    </tr>\n",
       "  </tbody>\n",
       "</table>\n",
       "<p>18900 rows × 6 columns</p>\n",
       "</div>"
      ]
     },
     "metadata": {},
     "execution_count": 2
    }
   ],
   "metadata": {}
  },
  {
   "cell_type": "code",
   "execution_count": 3,
   "source": [
    "group = df.groupby('gender')['age'].value_counts()\n",
    "group"
   ],
   "outputs": [
    {
     "output_type": "execute_result",
     "data": {
      "text/plain": [
       "gender  age\n",
       "female  19     1400\n",
       "        20     1309\n",
       "        18     1057\n",
       "        58      763\n",
       "        60      763\n",
       "               ... \n",
       "male    37       14\n",
       "        42       14\n",
       "        36        7\n",
       "        44        7\n",
       "        47        7\n",
       "Name: age, Length: 84, dtype: int64"
      ]
     },
     "metadata": {},
     "execution_count": 3
    }
   ],
   "metadata": {}
  },
  {
   "cell_type": "code",
   "execution_count": 9,
   "source": [
    "fig, axes = plt.subplots(1,2,figsize=(15,7))\n",
    "axes[0].bar(group['male'].index, group['male'], color='blue')\n",
    "axes[1].bar(group['female'].index, group['female'], color='red')\n",
    "plt.show()"
   ],
   "outputs": [
    {
     "output_type": "display_data",
     "data": {
      "text/plain": [
       "<Figure size 1080x504 with 2 Axes>"
      ],
      "image/png": "[encoded data removed]"
     },
     "metadata": {
      "needs_background": "light"
     }
    }
   ],
   "metadata": {}
  },
  {
   "cell_type": "code",
   "execution_count": 10,
   "source": [
    "class Model():\n",
    "    def __init__(self):\n",
    "        \n",
    "    def __getitem__(self):\n",
    "        \n",
    "    def forward(self):\n",
    "        "
   ],
   "outputs": [],
   "metadata": {}
  },
  {
   "cell_type": "code",
   "execution_count": 11,
   "source": [
    "a"
   ],
   "outputs": [
    {
     "output_type": "execute_result",
     "data": {
      "text/plain": [
       "3"
      ]
     },
     "metadata": {},
     "execution_count": 11
    }
   ],
   "metadata": {}
  },
  {
   "cell_type": "code",
   "execution_count": null,
   "source": [],
   "outputs": [],
   "metadata": {}
  }
 ],
 "metadata": {
  "kernelspec": {
   "display_name": "Python 3",
   "language": "python",
   "name": "python3"
  },
  "language_info": {
   "codemirror_mode": {
    "name": "ipython",
    "version": 3
   },
   "file_extension": ".py",
   "mimetype": "text/x-python",
   "name": "python",
   "nbconvert_exporter": "python",
   "pygments_lexer": "ipython3",
   "version": "3.8.5"
  }
 },
 "nbformat": 4,
 "nbformat_minor": 5
}