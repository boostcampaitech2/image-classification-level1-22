{
 "cells": [
  {
   "cell_type": "code",
   "execution_count": 388,
   "id": "79a44c10-4a28-4d0f-90c0-2702f63bad56",
   "metadata": {},
   "outputs": [],
   "source": [
    "import torch.nn as nn\n",
    "import torch.nn.functional as F\n",
    "import torch.optim as optim\n",
    "from torch.utils.data import Dataset, DataLoader\n",
    "import pandas as pd\n",
    "import numpy as np\n",
    "import torch\n",
    "import torchvision\n",
    "from PIL import Image\n",
    "from torchvision import transforms\n",
    "import matplotlib as mpl\n",
    "import matplotlib.pyplot as plt\n",
    "import matplotlib.image as img\n",
    "import torch.optim as optim\n",
    "import os\n",
    "import time\n",
    "from torchvision.transforms import Resize, ToTensor, Normalize"
   ]
  },
  {
   "cell_type": "code",
   "execution_count": 191,
   "id": "bc552cbc-f210-4d82-828b-6fef6eecc3f8",
   "metadata": {},
   "outputs": [],
   "source": [
    "DEVICE = torch.device('cuda')\n",
    "DATA_INDEX = 3150\n",
    "DIV_INDEX = 0 # 0 ~ 5?"
   ]
  },
  {
   "cell_type": "code",
   "execution_count": 214,
   "id": "52656548-8e97-4af1-a03f-d90c768fbdcc",
   "metadata": {},
   "outputs": [
    {
     "data": {
      "text/html": [
       "<div>\n",
       "<style scoped>\n",
       "    .dataframe tbody tr th:only-of-type {\n",
       "        vertical-align: middle;\n",
       "    }\n",
       "\n",
       "    .dataframe tbody tr th {\n",
       "        vertical-align: top;\n",
       "    }\n",
       "\n",
       "    .dataframe thead th {\n",
       "        text-align: right;\n",
       "    }\n",
       "</style>\n",
       "<table border=\"1\" class=\"dataframe\">\n",
       "  <thead>\n",
       "    <tr style=\"text-align: right;\">\n",
       "      <th></th>\n",
       "      <th>Unnamed: 0</th>\n",
       "      <th>fname</th>\n",
       "      <th>path</th>\n",
       "      <th>age</th>\n",
       "      <th>gender</th>\n",
       "      <th>label</th>\n",
       "    </tr>\n",
       "  </thead>\n",
       "  <tbody>\n",
       "    <tr>\n",
       "      <th>0</th>\n",
       "      <td>0</td>\n",
       "      <td>incorrect_mask.jpg</td>\n",
       "      <td>000001_female_Asian_45</td>\n",
       "      <td>45</td>\n",
       "      <td>female</td>\n",
       "      <td>10</td>\n",
       "    </tr>\n",
       "    <tr>\n",
       "      <th>1</th>\n",
       "      <td>1</td>\n",
       "      <td>mask1.jpg</td>\n",
       "      <td>000001_female_Asian_45</td>\n",
       "      <td>45</td>\n",
       "      <td>female</td>\n",
       "      <td>4</td>\n",
       "    </tr>\n",
       "    <tr>\n",
       "      <th>2</th>\n",
       "      <td>2</td>\n",
       "      <td>mask2.jpg</td>\n",
       "      <td>000001_female_Asian_45</td>\n",
       "      <td>45</td>\n",
       "      <td>female</td>\n",
       "      <td>4</td>\n",
       "    </tr>\n",
       "    <tr>\n",
       "      <th>3</th>\n",
       "      <td>3</td>\n",
       "      <td>mask3.jpg</td>\n",
       "      <td>000001_female_Asian_45</td>\n",
       "      <td>45</td>\n",
       "      <td>female</td>\n",
       "      <td>4</td>\n",
       "    </tr>\n",
       "    <tr>\n",
       "      <th>4</th>\n",
       "      <td>4</td>\n",
       "      <td>mask4.jpg</td>\n",
       "      <td>000001_female_Asian_45</td>\n",
       "      <td>45</td>\n",
       "      <td>female</td>\n",
       "      <td>4</td>\n",
       "    </tr>\n",
       "    <tr>\n",
       "      <th>...</th>\n",
       "      <td>...</td>\n",
       "      <td>...</td>\n",
       "      <td>...</td>\n",
       "      <td>...</td>\n",
       "      <td>...</td>\n",
       "      <td>...</td>\n",
       "    </tr>\n",
       "    <tr>\n",
       "      <th>18895</th>\n",
       "      <td>18895</td>\n",
       "      <td>mask2.jpg</td>\n",
       "      <td>006959_male_Asian_19</td>\n",
       "      <td>19</td>\n",
       "      <td>male</td>\n",
       "      <td>0</td>\n",
       "    </tr>\n",
       "    <tr>\n",
       "      <th>18896</th>\n",
       "      <td>18896</td>\n",
       "      <td>mask3.jpg</td>\n",
       "      <td>006959_male_Asian_19</td>\n",
       "      <td>19</td>\n",
       "      <td>male</td>\n",
       "      <td>0</td>\n",
       "    </tr>\n",
       "    <tr>\n",
       "      <th>18897</th>\n",
       "      <td>18897</td>\n",
       "      <td>mask4.jpg</td>\n",
       "      <td>006959_male_Asian_19</td>\n",
       "      <td>19</td>\n",
       "      <td>male</td>\n",
       "      <td>0</td>\n",
       "    </tr>\n",
       "    <tr>\n",
       "      <th>18898</th>\n",
       "      <td>18898</td>\n",
       "      <td>mask5.jpg</td>\n",
       "      <td>006959_male_Asian_19</td>\n",
       "      <td>19</td>\n",
       "      <td>male</td>\n",
       "      <td>0</td>\n",
       "    </tr>\n",
       "    <tr>\n",
       "      <th>18899</th>\n",
       "      <td>18899</td>\n",
       "      <td>normal.jpg</td>\n",
       "      <td>006959_male_Asian_19</td>\n",
       "      <td>19</td>\n",
       "      <td>male</td>\n",
       "      <td>12</td>\n",
       "    </tr>\n",
       "  </tbody>\n",
       "</table>\n",
       "<p>18900 rows × 6 columns</p>\n",
       "</div>"
      ],
      "text/plain": [
       "       Unnamed: 0               fname                    path  age  gender  \\\n",
       "0               0  incorrect_mask.jpg  000001_female_Asian_45   45  female   \n",
       "1               1           mask1.jpg  000001_female_Asian_45   45  female   \n",
       "2               2           mask2.jpg  000001_female_Asian_45   45  female   \n",
       "3               3           mask3.jpg  000001_female_Asian_45   45  female   \n",
       "4               4           mask4.jpg  000001_female_Asian_45   45  female   \n",
       "...           ...                 ...                     ...  ...     ...   \n",
       "18895       18895           mask2.jpg    006959_male_Asian_19   19    male   \n",
       "18896       18896           mask3.jpg    006959_male_Asian_19   19    male   \n",
       "18897       18897           mask4.jpg    006959_male_Asian_19   19    male   \n",
       "18898       18898           mask5.jpg    006959_male_Asian_19   19    male   \n",
       "18899       18899          normal.jpg    006959_male_Asian_19   19    male   \n",
       "\n",
       "       label  \n",
       "0         10  \n",
       "1          4  \n",
       "2          4  \n",
       "3          4  \n",
       "4          4  \n",
       "...      ...  \n",
       "18895      0  \n",
       "18896      0  \n",
       "18897      0  \n",
       "18898      0  \n",
       "18899     12  \n",
       "\n",
       "[18900 rows x 6 columns]"
      ]
     },
     "execution_count": 214,
     "metadata": {},
     "output_type": "execute_result"
    }
   ],
   "source": [
    "df = pd.read_csv('label.csv')\n",
    "df"
   ]
  },
  {
   "cell_type": "code",
   "execution_count": 215,
   "id": "76240ffd-8ed9-499a-81c1-a86eaa9a5e47",
   "metadata": {},
   "outputs": [
    {
     "data": {
      "text/html": [
       "<div>\n",
       "<style scoped>\n",
       "    .dataframe tbody tr th:only-of-type {\n",
       "        vertical-align: middle;\n",
       "    }\n",
       "\n",
       "    .dataframe tbody tr th {\n",
       "        vertical-align: top;\n",
       "    }\n",
       "\n",
       "    .dataframe thead th {\n",
       "        text-align: right;\n",
       "    }\n",
       "</style>\n",
       "<table border=\"1\" class=\"dataframe\">\n",
       "  <thead>\n",
       "    <tr style=\"text-align: right;\">\n",
       "      <th></th>\n",
       "      <th>Unnamed: 0</th>\n",
       "      <th>fname</th>\n",
       "      <th>path</th>\n",
       "      <th>age</th>\n",
       "      <th>gender</th>\n",
       "      <th>label</th>\n",
       "    </tr>\n",
       "  </thead>\n",
       "  <tbody>\n",
       "    <tr>\n",
       "      <th>0</th>\n",
       "      <td>0</td>\n",
       "      <td>incorrect_mask.jpg</td>\n",
       "      <td>000001_female_Asian_45</td>\n",
       "      <td>45</td>\n",
       "      <td>female</td>\n",
       "      <td>10</td>\n",
       "    </tr>\n",
       "    <tr>\n",
       "      <th>1</th>\n",
       "      <td>1</td>\n",
       "      <td>mask1.jpg</td>\n",
       "      <td>000001_female_Asian_45</td>\n",
       "      <td>45</td>\n",
       "      <td>female</td>\n",
       "      <td>4</td>\n",
       "    </tr>\n",
       "    <tr>\n",
       "      <th>2</th>\n",
       "      <td>2</td>\n",
       "      <td>mask2.jpg</td>\n",
       "      <td>000001_female_Asian_45</td>\n",
       "      <td>45</td>\n",
       "      <td>female</td>\n",
       "      <td>4</td>\n",
       "    </tr>\n",
       "    <tr>\n",
       "      <th>3</th>\n",
       "      <td>3</td>\n",
       "      <td>mask3.jpg</td>\n",
       "      <td>000001_female_Asian_45</td>\n",
       "      <td>45</td>\n",
       "      <td>female</td>\n",
       "      <td>4</td>\n",
       "    </tr>\n",
       "    <tr>\n",
       "      <th>4</th>\n",
       "      <td>4</td>\n",
       "      <td>mask4.jpg</td>\n",
       "      <td>000001_female_Asian_45</td>\n",
       "      <td>45</td>\n",
       "      <td>female</td>\n",
       "      <td>4</td>\n",
       "    </tr>\n",
       "    <tr>\n",
       "      <th>...</th>\n",
       "      <td>...</td>\n",
       "      <td>...</td>\n",
       "      <td>...</td>\n",
       "      <td>...</td>\n",
       "      <td>...</td>\n",
       "      <td>...</td>\n",
       "    </tr>\n",
       "    <tr>\n",
       "      <th>15745</th>\n",
       "      <td>15745</td>\n",
       "      <td>mask2.jpg</td>\n",
       "      <td>005556_male_Asian_50</td>\n",
       "      <td>50</td>\n",
       "      <td>male</td>\n",
       "      <td>1</td>\n",
       "    </tr>\n",
       "    <tr>\n",
       "      <th>15746</th>\n",
       "      <td>15746</td>\n",
       "      <td>mask3.jpg</td>\n",
       "      <td>005556_male_Asian_50</td>\n",
       "      <td>50</td>\n",
       "      <td>male</td>\n",
       "      <td>1</td>\n",
       "    </tr>\n",
       "    <tr>\n",
       "      <th>15747</th>\n",
       "      <td>15747</td>\n",
       "      <td>mask4.jpg</td>\n",
       "      <td>005556_male_Asian_50</td>\n",
       "      <td>50</td>\n",
       "      <td>male</td>\n",
       "      <td>1</td>\n",
       "    </tr>\n",
       "    <tr>\n",
       "      <th>15748</th>\n",
       "      <td>15748</td>\n",
       "      <td>mask5.jpg</td>\n",
       "      <td>005556_male_Asian_50</td>\n",
       "      <td>50</td>\n",
       "      <td>male</td>\n",
       "      <td>1</td>\n",
       "    </tr>\n",
       "    <tr>\n",
       "      <th>15749</th>\n",
       "      <td>15749</td>\n",
       "      <td>normal.jpg</td>\n",
       "      <td>005556_male_Asian_50</td>\n",
       "      <td>50</td>\n",
       "      <td>male</td>\n",
       "      <td>13</td>\n",
       "    </tr>\n",
       "  </tbody>\n",
       "</table>\n",
       "<p>15750 rows × 6 columns</p>\n",
       "</div>"
      ],
      "text/plain": [
       "       Unnamed: 0               fname                    path  age  gender  \\\n",
       "0               0  incorrect_mask.jpg  000001_female_Asian_45   45  female   \n",
       "1               1           mask1.jpg  000001_female_Asian_45   45  female   \n",
       "2               2           mask2.jpg  000001_female_Asian_45   45  female   \n",
       "3               3           mask3.jpg  000001_female_Asian_45   45  female   \n",
       "4               4           mask4.jpg  000001_female_Asian_45   45  female   \n",
       "...           ...                 ...                     ...  ...     ...   \n",
       "15745       15745           mask2.jpg    005556_male_Asian_50   50    male   \n",
       "15746       15746           mask3.jpg    005556_male_Asian_50   50    male   \n",
       "15747       15747           mask4.jpg    005556_male_Asian_50   50    male   \n",
       "15748       15748           mask5.jpg    005556_male_Asian_50   50    male   \n",
       "15749       15749          normal.jpg    005556_male_Asian_50   50    male   \n",
       "\n",
       "       label  \n",
       "0         10  \n",
       "1          4  \n",
       "2          4  \n",
       "3          4  \n",
       "4          4  \n",
       "...      ...  \n",
       "15745      1  \n",
       "15746      1  \n",
       "15747      1  \n",
       "15748      1  \n",
       "15749     13  \n",
       "\n",
       "[15750 rows x 6 columns]"
      ]
     },
     "execution_count": 215,
     "metadata": {},
     "output_type": "execute_result"
    }
   ],
   "source": [
    "df_test2 = pd.read_csv('label.csv', nrows=DATA_INDEX*5)\n",
    "df_test2"
   ]
  },
  {
   "cell_type": "code",
   "execution_count": 213,
   "id": "7a37a0c5-de33-46c6-ba34-51c3d578e799",
   "metadata": {},
   "outputs": [
    {
     "data": {
      "text/html": [
       "<div>\n",
       "<style scoped>\n",
       "    .dataframe tbody tr th:only-of-type {\n",
       "        vertical-align: middle;\n",
       "    }\n",
       "\n",
       "    .dataframe tbody tr th {\n",
       "        vertical-align: top;\n",
       "    }\n",
       "\n",
       "    .dataframe thead th {\n",
       "        text-align: right;\n",
       "    }\n",
       "</style>\n",
       "<table border=\"1\" class=\"dataframe\">\n",
       "  <thead>\n",
       "    <tr style=\"text-align: right;\">\n",
       "      <th></th>\n",
       "      <th>15749</th>\n",
       "      <th>normal.jpg</th>\n",
       "      <th>005556_male_Asian_50</th>\n",
       "      <th>50</th>\n",
       "      <th>male</th>\n",
       "      <th>13</th>\n",
       "    </tr>\n",
       "  </thead>\n",
       "  <tbody>\n",
       "    <tr>\n",
       "      <th>0</th>\n",
       "      <td>15750</td>\n",
       "      <td>incorrect_mask.jpg</td>\n",
       "      <td>005557_male_Asian_46</td>\n",
       "      <td>46</td>\n",
       "      <td>male</td>\n",
       "      <td>7</td>\n",
       "    </tr>\n",
       "    <tr>\n",
       "      <th>1</th>\n",
       "      <td>15751</td>\n",
       "      <td>mask1.jpg</td>\n",
       "      <td>005557_male_Asian_46</td>\n",
       "      <td>46</td>\n",
       "      <td>male</td>\n",
       "      <td>1</td>\n",
       "    </tr>\n",
       "    <tr>\n",
       "      <th>2</th>\n",
       "      <td>15752</td>\n",
       "      <td>mask2.jpg</td>\n",
       "      <td>005557_male_Asian_46</td>\n",
       "      <td>46</td>\n",
       "      <td>male</td>\n",
       "      <td>1</td>\n",
       "    </tr>\n",
       "    <tr>\n",
       "      <th>3</th>\n",
       "      <td>15753</td>\n",
       "      <td>mask3.jpg</td>\n",
       "      <td>005557_male_Asian_46</td>\n",
       "      <td>46</td>\n",
       "      <td>male</td>\n",
       "      <td>1</td>\n",
       "    </tr>\n",
       "    <tr>\n",
       "      <th>4</th>\n",
       "      <td>15754</td>\n",
       "      <td>mask4.jpg</td>\n",
       "      <td>005557_male_Asian_46</td>\n",
       "      <td>46</td>\n",
       "      <td>male</td>\n",
       "      <td>1</td>\n",
       "    </tr>\n",
       "    <tr>\n",
       "      <th>...</th>\n",
       "      <td>...</td>\n",
       "      <td>...</td>\n",
       "      <td>...</td>\n",
       "      <td>...</td>\n",
       "      <td>...</td>\n",
       "      <td>...</td>\n",
       "    </tr>\n",
       "    <tr>\n",
       "      <th>3145</th>\n",
       "      <td>18895</td>\n",
       "      <td>mask2.jpg</td>\n",
       "      <td>006959_male_Asian_19</td>\n",
       "      <td>19</td>\n",
       "      <td>male</td>\n",
       "      <td>0</td>\n",
       "    </tr>\n",
       "    <tr>\n",
       "      <th>3146</th>\n",
       "      <td>18896</td>\n",
       "      <td>mask3.jpg</td>\n",
       "      <td>006959_male_Asian_19</td>\n",
       "      <td>19</td>\n",
       "      <td>male</td>\n",
       "      <td>0</td>\n",
       "    </tr>\n",
       "    <tr>\n",
       "      <th>3147</th>\n",
       "      <td>18897</td>\n",
       "      <td>mask4.jpg</td>\n",
       "      <td>006959_male_Asian_19</td>\n",
       "      <td>19</td>\n",
       "      <td>male</td>\n",
       "      <td>0</td>\n",
       "    </tr>\n",
       "    <tr>\n",
       "      <th>3148</th>\n",
       "      <td>18898</td>\n",
       "      <td>mask5.jpg</td>\n",
       "      <td>006959_male_Asian_19</td>\n",
       "      <td>19</td>\n",
       "      <td>male</td>\n",
       "      <td>0</td>\n",
       "    </tr>\n",
       "    <tr>\n",
       "      <th>3149</th>\n",
       "      <td>18899</td>\n",
       "      <td>normal.jpg</td>\n",
       "      <td>006959_male_Asian_19</td>\n",
       "      <td>19</td>\n",
       "      <td>male</td>\n",
       "      <td>12</td>\n",
       "    </tr>\n",
       "  </tbody>\n",
       "</table>\n",
       "<p>3150 rows × 6 columns</p>\n",
       "</div>"
      ],
      "text/plain": [
       "      15749          normal.jpg  005556_male_Asian_50  50  male  13\n",
       "0     15750  incorrect_mask.jpg  005557_male_Asian_46  46  male   7\n",
       "1     15751           mask1.jpg  005557_male_Asian_46  46  male   1\n",
       "2     15752           mask2.jpg  005557_male_Asian_46  46  male   1\n",
       "3     15753           mask3.jpg  005557_male_Asian_46  46  male   1\n",
       "4     15754           mask4.jpg  005557_male_Asian_46  46  male   1\n",
       "...     ...                 ...                   ...  ..   ...  ..\n",
       "3145  18895           mask2.jpg  006959_male_Asian_19  19  male   0\n",
       "3146  18896           mask3.jpg  006959_male_Asian_19  19  male   0\n",
       "3147  18897           mask4.jpg  006959_male_Asian_19  19  male   0\n",
       "3148  18898           mask5.jpg  006959_male_Asian_19  19  male   0\n",
       "3149  18899          normal.jpg  006959_male_Asian_19  19  male  12\n",
       "\n",
       "[3150 rows x 6 columns]"
      ]
     },
     "execution_count": 213,
     "metadata": {},
     "output_type": "execute_result"
    }
   ],
   "source": [
    "df_test = pd.read_csv('label.csv', skiprows=DATA_INDEX*5)\n",
    "df_test"
   ]
  },
  {
   "cell_type": "code",
   "execution_count": 210,
   "id": "6c15e851-b2dc-4fec-ac8f-236c3b06dd7c",
   "metadata": {},
   "outputs": [
    {
     "ename": "AttributeError",
     "evalue": "'Series' object has no attribute 'read'",
     "output_type": "error",
     "traceback": [
      "\u001b[0;31m---------------------------------------------------------------------------\u001b[0m",
      "\u001b[0;31mAttributeError\u001b[0m                            Traceback (most recent call last)",
      "\u001b[0;32m/opt/conda/lib/python3.8/site-packages/PIL/Image.py\u001b[0m in \u001b[0;36mopen\u001b[0;34m(fp, mode, formats)\u001b[0m\n\u001b[1;32m   2907\u001b[0m     \u001b[0;32mtry\u001b[0m\u001b[0;34m:\u001b[0m\u001b[0;34m\u001b[0m\u001b[0;34m\u001b[0m\u001b[0m\n\u001b[0;32m-> 2908\u001b[0;31m         \u001b[0mfp\u001b[0m\u001b[0;34m.\u001b[0m\u001b[0mseek\u001b[0m\u001b[0;34m(\u001b[0m\u001b[0;36m0\u001b[0m\u001b[0;34m)\u001b[0m\u001b[0;34m\u001b[0m\u001b[0;34m\u001b[0m\u001b[0m\n\u001b[0m\u001b[1;32m   2909\u001b[0m     \u001b[0;32mexcept\u001b[0m \u001b[0;34m(\u001b[0m\u001b[0mAttributeError\u001b[0m\u001b[0;34m,\u001b[0m \u001b[0mio\u001b[0m\u001b[0;34m.\u001b[0m\u001b[0mUnsupportedOperation\u001b[0m\u001b[0;34m)\u001b[0m\u001b[0;34m:\u001b[0m\u001b[0;34m\u001b[0m\u001b[0;34m\u001b[0m\u001b[0m\n",
      "\u001b[0;32m/opt/conda/lib/python3.8/site-packages/pandas/core/generic.py\u001b[0m in \u001b[0;36m__getattr__\u001b[0;34m(self, name)\u001b[0m\n\u001b[1;32m   5140\u001b[0m                 \u001b[0;32mreturn\u001b[0m \u001b[0mself\u001b[0m\u001b[0;34m[\u001b[0m\u001b[0mname\u001b[0m\u001b[0;34m]\u001b[0m\u001b[0;34m\u001b[0m\u001b[0;34m\u001b[0m\u001b[0m\n\u001b[0;32m-> 5141\u001b[0;31m             \u001b[0;32mreturn\u001b[0m \u001b[0mobject\u001b[0m\u001b[0;34m.\u001b[0m\u001b[0m__getattribute__\u001b[0m\u001b[0;34m(\u001b[0m\u001b[0mself\u001b[0m\u001b[0;34m,\u001b[0m \u001b[0mname\u001b[0m\u001b[0;34m)\u001b[0m\u001b[0;34m\u001b[0m\u001b[0;34m\u001b[0m\u001b[0m\n\u001b[0m\u001b[1;32m   5142\u001b[0m \u001b[0;34m\u001b[0m\u001b[0m\n",
      "\u001b[0;31mAttributeError\u001b[0m: 'Series' object has no attribute 'seek'",
      "\nDuring handling of the above exception, another exception occurred:\n",
      "\u001b[0;31mAttributeError\u001b[0m                            Traceback (most recent call last)",
      "\u001b[0;32m<ipython-input-210-09f13c20de28>\u001b[0m in \u001b[0;36m<module>\u001b[0;34m\u001b[0m\n\u001b[0;32m----> 1\u001b[0;31m \u001b[0mt\u001b[0m \u001b[0;34m=\u001b[0m \u001b[0mImage\u001b[0m\u001b[0;34m.\u001b[0m\u001b[0mopen\u001b[0m\u001b[0;34m(\u001b[0m\u001b[0;34m'./images/'\u001b[0m \u001b[0;34m+\u001b[0m \u001b[0mdf\u001b[0m\u001b[0;34m.\u001b[0m\u001b[0mloc\u001b[0m\u001b[0;34m[\u001b[0m\u001b[0;36m3\u001b[0m\u001b[0;34m:\u001b[0m\u001b[0;36m5\u001b[0m\u001b[0;34m]\u001b[0m\u001b[0;34m[\u001b[0m\u001b[0;34m'path'\u001b[0m\u001b[0;34m]\u001b[0m \u001b[0;34m+\u001b[0m \u001b[0;34m'/'\u001b[0m \u001b[0;34m+\u001b[0m \u001b[0mdf\u001b[0m\u001b[0;34m.\u001b[0m\u001b[0mloc\u001b[0m\u001b[0;34m[\u001b[0m\u001b[0;36m3\u001b[0m\u001b[0;34m:\u001b[0m\u001b[0;36m5\u001b[0m\u001b[0;34m]\u001b[0m\u001b[0;34m[\u001b[0m\u001b[0;34m'fname'\u001b[0m\u001b[0;34m]\u001b[0m\u001b[0;34m)\u001b[0m\u001b[0;34m\u001b[0m\u001b[0;34m\u001b[0m\u001b[0m\n\u001b[0m\u001b[1;32m      2\u001b[0m \u001b[0mt\u001b[0m\u001b[0;34m\u001b[0m\u001b[0;34m\u001b[0m\u001b[0m\n",
      "\u001b[0;32m/opt/conda/lib/python3.8/site-packages/PIL/Image.py\u001b[0m in \u001b[0;36mopen\u001b[0;34m(fp, mode, formats)\u001b[0m\n\u001b[1;32m   2908\u001b[0m         \u001b[0mfp\u001b[0m\u001b[0;34m.\u001b[0m\u001b[0mseek\u001b[0m\u001b[0;34m(\u001b[0m\u001b[0;36m0\u001b[0m\u001b[0;34m)\u001b[0m\u001b[0;34m\u001b[0m\u001b[0;34m\u001b[0m\u001b[0m\n\u001b[1;32m   2909\u001b[0m     \u001b[0;32mexcept\u001b[0m \u001b[0;34m(\u001b[0m\u001b[0mAttributeError\u001b[0m\u001b[0;34m,\u001b[0m \u001b[0mio\u001b[0m\u001b[0;34m.\u001b[0m\u001b[0mUnsupportedOperation\u001b[0m\u001b[0;34m)\u001b[0m\u001b[0;34m:\u001b[0m\u001b[0;34m\u001b[0m\u001b[0;34m\u001b[0m\u001b[0m\n\u001b[0;32m-> 2910\u001b[0;31m         \u001b[0mfp\u001b[0m \u001b[0;34m=\u001b[0m \u001b[0mio\u001b[0m\u001b[0;34m.\u001b[0m\u001b[0mBytesIO\u001b[0m\u001b[0;34m(\u001b[0m\u001b[0mfp\u001b[0m\u001b[0;34m.\u001b[0m\u001b[0mread\u001b[0m\u001b[0;34m(\u001b[0m\u001b[0;34m)\u001b[0m\u001b[0;34m)\u001b[0m\u001b[0;34m\u001b[0m\u001b[0;34m\u001b[0m\u001b[0m\n\u001b[0m\u001b[1;32m   2911\u001b[0m         \u001b[0mexclusive_fp\u001b[0m \u001b[0;34m=\u001b[0m \u001b[0;32mTrue\u001b[0m\u001b[0;34m\u001b[0m\u001b[0;34m\u001b[0m\u001b[0m\n\u001b[1;32m   2912\u001b[0m \u001b[0;34m\u001b[0m\u001b[0m\n",
      "\u001b[0;32m/opt/conda/lib/python3.8/site-packages/pandas/core/generic.py\u001b[0m in \u001b[0;36m__getattr__\u001b[0;34m(self, name)\u001b[0m\n\u001b[1;32m   5139\u001b[0m             \u001b[0;32mif\u001b[0m \u001b[0mself\u001b[0m\u001b[0;34m.\u001b[0m\u001b[0m_info_axis\u001b[0m\u001b[0;34m.\u001b[0m\u001b[0m_can_hold_identifiers_and_holds_name\u001b[0m\u001b[0;34m(\u001b[0m\u001b[0mname\u001b[0m\u001b[0;34m)\u001b[0m\u001b[0;34m:\u001b[0m\u001b[0;34m\u001b[0m\u001b[0;34m\u001b[0m\u001b[0m\n\u001b[1;32m   5140\u001b[0m                 \u001b[0;32mreturn\u001b[0m \u001b[0mself\u001b[0m\u001b[0;34m[\u001b[0m\u001b[0mname\u001b[0m\u001b[0;34m]\u001b[0m\u001b[0;34m\u001b[0m\u001b[0;34m\u001b[0m\u001b[0m\n\u001b[0;32m-> 5141\u001b[0;31m             \u001b[0;32mreturn\u001b[0m \u001b[0mobject\u001b[0m\u001b[0;34m.\u001b[0m\u001b[0m__getattribute__\u001b[0m\u001b[0;34m(\u001b[0m\u001b[0mself\u001b[0m\u001b[0;34m,\u001b[0m \u001b[0mname\u001b[0m\u001b[0;34m)\u001b[0m\u001b[0;34m\u001b[0m\u001b[0;34m\u001b[0m\u001b[0m\n\u001b[0m\u001b[1;32m   5142\u001b[0m \u001b[0;34m\u001b[0m\u001b[0m\n\u001b[1;32m   5143\u001b[0m     \u001b[0;32mdef\u001b[0m \u001b[0m__setattr__\u001b[0m\u001b[0;34m(\u001b[0m\u001b[0mself\u001b[0m\u001b[0;34m,\u001b[0m \u001b[0mname\u001b[0m\u001b[0;34m:\u001b[0m \u001b[0mstr\u001b[0m\u001b[0;34m,\u001b[0m \u001b[0mvalue\u001b[0m\u001b[0;34m)\u001b[0m \u001b[0;34m->\u001b[0m \u001b[0;32mNone\u001b[0m\u001b[0;34m:\u001b[0m\u001b[0;34m\u001b[0m\u001b[0;34m\u001b[0m\u001b[0m\n",
      "\u001b[0;31mAttributeError\u001b[0m: 'Series' object has no attribute 'read'"
     ]
    }
   ],
   "source": [
    "t = Image.open('./images/' + df.loc[3:5]['path'] + '/' + df.loc[3:5]['fname'])\n",
    "t"
   ]
  },
  {
   "cell_type": "code",
   "execution_count": 216,
   "id": "2764e9a7-f793-4380-b742-495856ef3aaa",
   "metadata": {},
   "outputs": [],
   "source": [
    "class CDataset(Dataset):\n",
    "    def __init__(self,train=True):\n",
    "        self.df = pd.read_csv('./label.csv',nrows=DATA_INDEX*5)\n",
    "        #self.X = Image.open('./images/' + self.df.loc[idx]['path'] + '/' + self.df.loc[idx]['fname'])\n",
    "        #self.y = self.df.loc[idx]['label']\n",
    "        #self.d_idx = d_index\n",
    "    def __len__(self):\n",
    "        return len(self.df)\n",
    "    def __getitem__(self,idx):\n",
    "        #data_index = self.d_idx\n",
    "        X = Image.open('./images/' + self.df.loc[idx]['path'] + '/' + self.df.loc[idx]['fname'])\n",
    "        #X = transforms.CenterCrop(270)(X)\n",
    "        y = self.df.loc[idx]['label'] \n",
    "        #print(y)\n",
    "        X = transforms.ToTensor()(X)\n",
    "        y = torch.tensor(y)\n",
    "        return X,y"
   ]
  },
  {
   "cell_type": "code",
   "execution_count": 193,
   "id": "f657e88c-86c9-4b84-8b57-c0a788842e85",
   "metadata": {},
   "outputs": [
    {
     "ename": "FileNotFoundError",
     "evalue": "[Errno 2] No such file or directory: '/input/data/eval/images/002a2d0ec05ec2a735e16e248937eb7075dedff7.jpg'",
     "output_type": "error",
     "traceback": [
      "\u001b[0;31m---------------------------------------------------------------------------\u001b[0m",
      "\u001b[0;31mFileNotFoundError\u001b[0m                         Traceback (most recent call last)",
      "\u001b[0;32m<ipython-input-193-0d3dbf98d898>\u001b[0m in \u001b[0;36m<module>\u001b[0;34m\u001b[0m\n\u001b[0;32m----> 1\u001b[0;31m \u001b[0mtest_img\u001b[0m \u001b[0;34m=\u001b[0m \u001b[0mImage\u001b[0m\u001b[0;34m.\u001b[0m\u001b[0mopen\u001b[0m\u001b[0;34m(\u001b[0m\u001b[0;34m'/input/data/eval/images/002a2d0ec05ec2a735e16e248937eb7075dedff7.jpg'\u001b[0m\u001b[0;34m)\u001b[0m\u001b[0;34m\u001b[0m\u001b[0;34m\u001b[0m\u001b[0m\n\u001b[0m",
      "\u001b[0;32m/opt/conda/lib/python3.8/site-packages/PIL/Image.py\u001b[0m in \u001b[0;36mopen\u001b[0;34m(fp, mode, formats)\u001b[0m\n\u001b[1;32m   2902\u001b[0m \u001b[0;34m\u001b[0m\u001b[0m\n\u001b[1;32m   2903\u001b[0m     \u001b[0;32mif\u001b[0m \u001b[0mfilename\u001b[0m\u001b[0;34m:\u001b[0m\u001b[0;34m\u001b[0m\u001b[0;34m\u001b[0m\u001b[0m\n\u001b[0;32m-> 2904\u001b[0;31m         \u001b[0mfp\u001b[0m \u001b[0;34m=\u001b[0m \u001b[0mbuiltins\u001b[0m\u001b[0;34m.\u001b[0m\u001b[0mopen\u001b[0m\u001b[0;34m(\u001b[0m\u001b[0mfilename\u001b[0m\u001b[0;34m,\u001b[0m \u001b[0;34m\"rb\"\u001b[0m\u001b[0;34m)\u001b[0m\u001b[0;34m\u001b[0m\u001b[0;34m\u001b[0m\u001b[0m\n\u001b[0m\u001b[1;32m   2905\u001b[0m         \u001b[0mexclusive_fp\u001b[0m \u001b[0;34m=\u001b[0m \u001b[0;32mTrue\u001b[0m\u001b[0;34m\u001b[0m\u001b[0;34m\u001b[0m\u001b[0m\n\u001b[1;32m   2906\u001b[0m \u001b[0;34m\u001b[0m\u001b[0m\n",
      "\u001b[0;31mFileNotFoundError\u001b[0m: [Errno 2] No such file or directory: '/input/data/eval/images/002a2d0ec05ec2a735e16e248937eb7075dedff7.jpg'"
     ]
    }
   ],
   "source": [
    "test_img = Image.open('/input/data/eval/images/002a2d0ec05ec2a735e16e248937eb7075dedff7.jpg')"
   ]
  },
  {
   "cell_type": "code",
   "execution_count": 217,
   "id": "4fdb542c-5145-49c2-99b1-9aabc76db31b",
   "metadata": {},
   "outputs": [],
   "source": [
    "class TDataset(Dataset):\n",
    "    def __init__(self,train=True):\n",
    "        self.df = pd.read_csv('./label.csv',skiprows=DATA_INDEX*5)\n",
    "        #self.X = Image.open('./images/' + self.df.loc[idx]['path'] + '/' + self.df.loc[idx]['fname'])\n",
    "        #self.y = self.df.loc[idx]['label']\n",
    "        #self.d_idx = d_index\n",
    "    def __len__(self):\n",
    "        return len(self.df)\n",
    "    def __getitem__(self,idx):\n",
    "        X = Image.open('./images/' + self.df.loc[idx]['path'] + '/' + self.df.loc[idx]['fname'])\n",
    "        #X = transforms.CenterCrop(270)(X)\n",
    "        y = self.df.loc[idx]['label'] \n",
    "        #print(y)\n",
    "        X = transforms.ToTensor()(X)\n",
    "        y = torch.tensor(y)\n",
    "        return X,y"
   ]
  },
  {
   "cell_type": "code",
   "execution_count": 218,
   "id": "c41dd838-6b4e-412f-933c-39cfd436ee05",
   "metadata": {},
   "outputs": [],
   "source": [
    "MaskDataset = CDataset(train=True)"
   ]
  },
  {
   "cell_type": "code",
   "execution_count": 219,
   "id": "ceb87d82-acb4-4e1f-b56d-cc900acd8979",
   "metadata": {},
   "outputs": [
    {
     "data": {
      "text/plain": [
       "(tensor([[[0.7490, 0.7490, 0.7490,  ..., 0.7882, 0.7882, 0.7882],\n",
       "          [0.7490, 0.7490, 0.7490,  ..., 0.7882, 0.7882, 0.7882],\n",
       "          [0.7490, 0.7490, 0.7490,  ..., 0.7882, 0.7882, 0.7882],\n",
       "          ...,\n",
       "          [0.5843, 0.5882, 0.5882,  ..., 0.5922, 0.5922, 0.5922],\n",
       "          [0.5725, 0.5725, 0.5725,  ..., 0.5961, 0.5961, 0.5961],\n",
       "          [0.5608, 0.5608, 0.5608,  ..., 0.6078, 0.6078, 0.6078]],\n",
       " \n",
       "         [[0.7451, 0.7451, 0.7451,  ..., 0.7843, 0.7843, 0.7843],\n",
       "          [0.7451, 0.7451, 0.7451,  ..., 0.7843, 0.7843, 0.7843],\n",
       "          [0.7451, 0.7451, 0.7451,  ..., 0.7843, 0.7843, 0.7843],\n",
       "          ...,\n",
       "          [0.3804, 0.3843, 0.3843,  ..., 0.3686, 0.3686, 0.3686],\n",
       "          [0.3686, 0.3686, 0.3686,  ..., 0.3725, 0.3725, 0.3725],\n",
       "          [0.3569, 0.3569, 0.3569,  ..., 0.3686, 0.3686, 0.3686]],\n",
       " \n",
       "         [[0.7255, 0.7255, 0.7255,  ..., 0.7647, 0.7647, 0.7647],\n",
       "          [0.7255, 0.7255, 0.7255,  ..., 0.7647, 0.7647, 0.7647],\n",
       "          [0.7255, 0.7255, 0.7255,  ..., 0.7647, 0.7647, 0.7647],\n",
       "          ...,\n",
       "          [0.2353, 0.2392, 0.2392,  ..., 0.2510, 0.2510, 0.2510],\n",
       "          [0.2235, 0.2235, 0.2235,  ..., 0.2667, 0.2667, 0.2667],\n",
       "          [0.2118, 0.2118, 0.2118,  ..., 0.2863, 0.2863, 0.2863]]]),\n",
       " tensor(10))"
      ]
     },
     "execution_count": 219,
     "metadata": {},
     "output_type": "execute_result"
    }
   ],
   "source": [
    "MaskDataset[0]"
   ]
  },
  {
   "cell_type": "code",
   "execution_count": 220,
   "id": "02229ec9-f78d-4582-af31-60a89d7cdaed",
   "metadata": {},
   "outputs": [],
   "source": [
    "train_ds = CDataset(train=True)\n",
    "test_ds = TDataset(train=False) "
   ]
  },
  {
   "cell_type": "code",
   "execution_count": 221,
   "id": "a486cdf4-f8dd-470e-b6e4-d5c45aad90db",
   "metadata": {},
   "outputs": [],
   "source": [
    "train_dl = DataLoader(train_ds,\n",
    "                      batch_size=16,\n",
    "                      shuffle=True,\n",
    "                      num_workers=3)\n",
    "test_dl = DataLoader(test_ds,\n",
    "                     batch_size=16,\n",
    "                     shuffle=True,\n",
    "                     num_workers=3)"
   ]
  },
  {
   "cell_type": "code",
   "execution_count": 224,
   "id": "c84a4f93-357c-48eb-8ab0-6dd14536b985",
   "metadata": {},
   "outputs": [
    {
     "data": {
      "text/plain": [
       "<torch.utils.data.dataloader.DataLoader at 0x7f4880eba250>"
      ]
     },
     "execution_count": 224,
     "metadata": {},
     "output_type": "execute_result"
    }
   ],
   "source": [
    "test_dl"
   ]
  },
  {
   "cell_type": "code",
   "execution_count": 190,
   "id": "51e9cc0b-3da5-4b97-a667-f5b2abcdc215",
   "metadata": {},
   "outputs": [
    {
     "data": {
      "text/plain": [
       "(tensor([[[0.7490, 0.7490, 0.7490,  ..., 0.7882, 0.7882, 0.7882],\n",
       "          [0.7490, 0.7490, 0.7490,  ..., 0.7882, 0.7882, 0.7882],\n",
       "          [0.7490, 0.7490, 0.7490,  ..., 0.7882, 0.7882, 0.7882],\n",
       "          ...,\n",
       "          [0.5843, 0.5882, 0.5882,  ..., 0.5922, 0.5922, 0.5922],\n",
       "          [0.5725, 0.5725, 0.5725,  ..., 0.5961, 0.5961, 0.5961],\n",
       "          [0.5608, 0.5608, 0.5608,  ..., 0.6078, 0.6078, 0.6078]],\n",
       " \n",
       "         [[0.7451, 0.7451, 0.7451,  ..., 0.7843, 0.7843, 0.7843],\n",
       "          [0.7451, 0.7451, 0.7451,  ..., 0.7843, 0.7843, 0.7843],\n",
       "          [0.7451, 0.7451, 0.7451,  ..., 0.7843, 0.7843, 0.7843],\n",
       "          ...,\n",
       "          [0.3804, 0.3843, 0.3843,  ..., 0.3686, 0.3686, 0.3686],\n",
       "          [0.3686, 0.3686, 0.3686,  ..., 0.3725, 0.3725, 0.3725],\n",
       "          [0.3569, 0.3569, 0.3569,  ..., 0.3686, 0.3686, 0.3686]],\n",
       " \n",
       "         [[0.7255, 0.7255, 0.7255,  ..., 0.7647, 0.7647, 0.7647],\n",
       "          [0.7255, 0.7255, 0.7255,  ..., 0.7647, 0.7647, 0.7647],\n",
       "          [0.7255, 0.7255, 0.7255,  ..., 0.7647, 0.7647, 0.7647],\n",
       "          ...,\n",
       "          [0.2353, 0.2392, 0.2392,  ..., 0.2510, 0.2510, 0.2510],\n",
       "          [0.2235, 0.2235, 0.2235,  ..., 0.2667, 0.2667, 0.2667],\n",
       "          [0.2118, 0.2118, 0.2118,  ..., 0.2863, 0.2863, 0.2863]]]),\n",
       " tensor(10))"
      ]
     },
     "execution_count": 190,
     "metadata": {},
     "output_type": "execute_result"
    }
   ],
   "source": [
    "MaskDataset[0]"
   ]
  },
  {
   "cell_type": "code",
   "execution_count": 177,
   "id": "6aa4f8be-441f-485e-8502-7a237991ca8d",
   "metadata": {},
   "outputs": [],
   "source": [
    "Dataloader_CDataset = DataLoader(MaskDataset, \n",
    "                                      batch_size=16,\n",
    "                                      shuffle=True,\n",
    "                                      num_workers=3)"
   ]
  },
  {
   "cell_type": "code",
   "execution_count": 178,
   "id": "eefe368f-accc-4855-b130-84b902a13ccf",
   "metadata": {},
   "outputs": [],
   "source": [
    "img_data, label_data = next(iter(Dataloader_CDataset))"
   ]
  },
  {
   "cell_type": "code",
   "execution_count": 179,
   "id": "f7c12440-fcdc-4a95-8a3f-53d7648b1849",
   "metadata": {},
   "outputs": [
    {
     "data": {
      "text/plain": [
       "torch.Size([16, 3, 512, 384])"
      ]
     },
     "execution_count": 179,
     "metadata": {},
     "output_type": "execute_result"
    }
   ],
   "source": [
    "img_data.shape"
   ]
  },
  {
   "cell_type": "code",
   "execution_count": 33,
   "id": "2b2a8cce-b089-43f1-9a99-69079c912662",
   "metadata": {},
   "outputs": [],
   "source": [
    "class Net(nn.Module):\n",
    "    def __init__(self):\n",
    "        super(Net,self).__init__()\n",
    "        \n",
    "    def forward(self,x):\n",
    "        return"
   ]
  },
  {
   "cell_type": "code",
   "execution_count": null,
   "id": "8be4652a-e916-483e-9e40-262a6fb2cd1b",
   "metadata": {},
   "outputs": [],
   "source": []
  },
  {
   "cell_type": "code",
   "execution_count": 34,
   "id": "3c08f028-602d-49ef-b8b4-23437bf8d2b1",
   "metadata": {},
   "outputs": [],
   "source": [
    "n_ = nn.Conv2d(3,5,5)"
   ]
  },
  {
   "cell_type": "code",
   "execution_count": 35,
   "id": "ce959b37-cf5c-4f43-9300-6b793ca52b38",
   "metadata": {},
   "outputs": [
    {
     "data": {
      "text/plain": [
       "Conv2d(3, 5, kernel_size=(5, 5), stride=(1, 1))"
      ]
     },
     "execution_count": 35,
     "metadata": {},
     "output_type": "execute_result"
    }
   ],
   "source": [
    "n_"
   ]
  },
  {
   "cell_type": "code",
   "execution_count": 37,
   "id": "68125ab0-243b-4a05-a835-9ff74aa2b4b4",
   "metadata": {},
   "outputs": [],
   "source": [
    "res = n_(img_data)"
   ]
  },
  {
   "cell_type": "code",
   "execution_count": 40,
   "id": "2ce1e729-97b6-4d82-a0db-842c218544ad",
   "metadata": {},
   "outputs": [
    {
     "data": {
      "text/plain": [
       "torch.Size([20, 5, 508, 380])"
      ]
     },
     "execution_count": 40,
     "metadata": {},
     "output_type": "execute_result"
    }
   ],
   "source": [
    "res.shape"
   ]
  },
  {
   "cell_type": "code",
   "execution_count": 43,
   "id": "678b496c-d1be-4095-b021-fc245f29ed9e",
   "metadata": {},
   "outputs": [
    {
     "data": {
      "image/png": "[encoded data removed]",
      "text/plain": [
       "<PIL.Image.Image image mode=RGB size=384x512 at 0x7F4880CA85E0>"
      ]
     },
     "execution_count": 43,
     "metadata": {},
     "output_type": "execute_result"
    }
   ],
   "source": [
    "transforms.ToPILImage()(img_data[0])"
   ]
  },
  {
   "cell_type": "code",
   "execution_count": 79,
   "id": "94b48f9b-1843-4ab2-b21c-99674be9ea43",
   "metadata": {},
   "outputs": [],
   "source": [
    "class Net(nn.Module):\n",
    "    def __init__(self):\n",
    "        super(Net, self).__init__()\n",
    "        #input = 3, output = 6, kernal = 5\n",
    "        self.conv1 = nn.Conv2d(3, 5, 5)\n",
    "        #kernal = 2, stride = 2, padding = 0 (default)\n",
    "        self.pool = nn.MaxPool2d(2, 2)\n",
    "        self.conv2 = nn.Conv2d(5, 16, 5)\n",
    "        #input feature, output feature\n",
    "        self.fc1 = nn.Linear(16 * 5 * 5, 120)\n",
    "        self.fc2 = nn.Linear(120, 84)\n",
    "        self.fc3 = nn.Linear(84, 10)\n",
    "# 값 계산\n",
    "    def forward(self, x):\n",
    "        x = self.pool(F.relu(self.conv1(x)))\n",
    "        print('1!!!')\n",
    "        x = self.pool(F.relu(self.conv2(x)))\n",
    "        print('2!!!')\n",
    "        x = x.view(-1, 16 * 5 * 5)\n",
    "        print('3!!!')\n",
    "        x = F.relu(self.fc1(x))\n",
    "        print('4!!!')\n",
    "        x = F.relu(self.fc2(x))\n",
    "        print('5!!!')\n",
    "        x = self.fc3(x)\n",
    "        print(x[0])\n",
    "        return x\n"
   ]
  },
  {
   "cell_type": "code",
   "execution_count": 80,
   "id": "2ca37dbc-b59b-41b5-843c-dcd56184d31f",
   "metadata": {},
   "outputs": [],
   "source": [
    "net = Net()\n",
    "\n",
    "criterion = nn.CrossEntropyLoss()\n",
    "optimizer = optim.SGD(net.parameters(), lr=0.001, momentum=0.9)"
   ]
  },
  {
   "cell_type": "code",
   "execution_count": 82,
   "id": "9b7a2026-8529-4c84-b108-9ad578d5cfa6",
   "metadata": {},
   "outputs": [
    {
     "name": "stdout",
     "output_type": "stream",
     "text": [
      "1!!!\n",
      "2!!!\n",
      "3!!!\n"
     ]
    },
    {
     "ename": "RuntimeError",
     "evalue": "DataLoader worker (pid 20516) is killed by signal: Bus error. It is possible that dataloader's workers are out of shared memory. Please try to raise your shared memory limit.",
     "output_type": "error",
     "traceback": [
      "\u001b[0;31m---------------------------------------------------------------------------\u001b[0m",
      "\u001b[0;31mRuntimeError\u001b[0m                              Traceback (most recent call last)",
      "\u001b[0;32m<ipython-input-82-7329736b7309>\u001b[0m in \u001b[0;36m<module>\u001b[0;34m\u001b[0m\n\u001b[1;32m      6\u001b[0m         \u001b[0;31m#학습\u001b[0m\u001b[0;34m\u001b[0m\u001b[0;34m\u001b[0m\u001b[0;34m\u001b[0m\u001b[0m\n\u001b[1;32m      7\u001b[0m         \u001b[0moptimizer\u001b[0m\u001b[0;34m.\u001b[0m\u001b[0mzero_grad\u001b[0m\u001b[0;34m(\u001b[0m\u001b[0;34m)\u001b[0m\u001b[0;34m\u001b[0m\u001b[0;34m\u001b[0m\u001b[0m\n\u001b[0;32m----> 8\u001b[0;31m         \u001b[0moutputs\u001b[0m \u001b[0;34m=\u001b[0m \u001b[0mnet\u001b[0m\u001b[0;34m(\u001b[0m\u001b[0minputs\u001b[0m\u001b[0;34m)\u001b[0m\u001b[0;34m\u001b[0m\u001b[0;34m\u001b[0m\u001b[0m\n\u001b[0m\u001b[1;32m      9\u001b[0m         \u001b[0mprint\u001b[0m\u001b[0;34m(\u001b[0m\u001b[0moutputs\u001b[0m\u001b[0;34m)\u001b[0m\u001b[0;34m\u001b[0m\u001b[0;34m\u001b[0m\u001b[0m\n\u001b[1;32m     10\u001b[0m         \u001b[0mloss\u001b[0m \u001b[0;34m=\u001b[0m \u001b[0mcriterion\u001b[0m\u001b[0;34m(\u001b[0m\u001b[0moutputs\u001b[0m\u001b[0;34m,\u001b[0m \u001b[0mlabels\u001b[0m\u001b[0;34m)\u001b[0m\u001b[0;34m\u001b[0m\u001b[0;34m\u001b[0m\u001b[0m\n",
      "\u001b[0;32m/opt/conda/lib/python3.8/site-packages/torch/nn/modules/module.py\u001b[0m in \u001b[0;36m_call_impl\u001b[0;34m(self, *input, **kwargs)\u001b[0m\n\u001b[1;32m    725\u001b[0m             \u001b[0mresult\u001b[0m \u001b[0;34m=\u001b[0m \u001b[0mself\u001b[0m\u001b[0;34m.\u001b[0m\u001b[0m_slow_forward\u001b[0m\u001b[0;34m(\u001b[0m\u001b[0;34m*\u001b[0m\u001b[0minput\u001b[0m\u001b[0;34m,\u001b[0m \u001b[0;34m**\u001b[0m\u001b[0mkwargs\u001b[0m\u001b[0;34m)\u001b[0m\u001b[0;34m\u001b[0m\u001b[0;34m\u001b[0m\u001b[0m\n\u001b[1;32m    726\u001b[0m         \u001b[0;32melse\u001b[0m\u001b[0;34m:\u001b[0m\u001b[0;34m\u001b[0m\u001b[0;34m\u001b[0m\u001b[0m\n\u001b[0;32m--> 727\u001b[0;31m             \u001b[0mresult\u001b[0m \u001b[0;34m=\u001b[0m \u001b[0mself\u001b[0m\u001b[0;34m.\u001b[0m\u001b[0mforward\u001b[0m\u001b[0;34m(\u001b[0m\u001b[0;34m*\u001b[0m\u001b[0minput\u001b[0m\u001b[0;34m,\u001b[0m \u001b[0;34m**\u001b[0m\u001b[0mkwargs\u001b[0m\u001b[0;34m)\u001b[0m\u001b[0;34m\u001b[0m\u001b[0;34m\u001b[0m\u001b[0m\n\u001b[0m\u001b[1;32m    728\u001b[0m         for hook in itertools.chain(\n\u001b[1;32m    729\u001b[0m                 \u001b[0m_global_forward_hooks\u001b[0m\u001b[0;34m.\u001b[0m\u001b[0mvalues\u001b[0m\u001b[0;34m(\u001b[0m\u001b[0;34m)\u001b[0m\u001b[0;34m,\u001b[0m\u001b[0;34m\u001b[0m\u001b[0;34m\u001b[0m\u001b[0m\n",
      "\u001b[0;32m<ipython-input-79-2b69853adf93>\u001b[0m in \u001b[0;36mforward\u001b[0;34m(self, x)\u001b[0m\n\u001b[1;32m     19\u001b[0m         \u001b[0mx\u001b[0m \u001b[0;34m=\u001b[0m \u001b[0mx\u001b[0m\u001b[0;34m.\u001b[0m\u001b[0mview\u001b[0m\u001b[0;34m(\u001b[0m\u001b[0;34m-\u001b[0m\u001b[0;36m1\u001b[0m\u001b[0;34m,\u001b[0m \u001b[0;36m16\u001b[0m \u001b[0;34m*\u001b[0m \u001b[0;36m5\u001b[0m \u001b[0;34m*\u001b[0m \u001b[0;36m5\u001b[0m\u001b[0;34m)\u001b[0m\u001b[0;34m\u001b[0m\u001b[0;34m\u001b[0m\u001b[0m\n\u001b[1;32m     20\u001b[0m         \u001b[0mprint\u001b[0m\u001b[0;34m(\u001b[0m\u001b[0;34m'3!!!'\u001b[0m\u001b[0;34m)\u001b[0m\u001b[0;34m\u001b[0m\u001b[0;34m\u001b[0m\u001b[0m\n\u001b[0;32m---> 21\u001b[0;31m         \u001b[0mx\u001b[0m \u001b[0;34m=\u001b[0m \u001b[0mF\u001b[0m\u001b[0;34m.\u001b[0m\u001b[0mrelu\u001b[0m\u001b[0;34m(\u001b[0m\u001b[0mself\u001b[0m\u001b[0;34m.\u001b[0m\u001b[0mfc1\u001b[0m\u001b[0;34m(\u001b[0m\u001b[0mx\u001b[0m\u001b[0;34m)\u001b[0m\u001b[0;34m)\u001b[0m\u001b[0;34m\u001b[0m\u001b[0;34m\u001b[0m\u001b[0m\n\u001b[0m\u001b[1;32m     22\u001b[0m         \u001b[0mprint\u001b[0m\u001b[0;34m(\u001b[0m\u001b[0;34m'4!!!'\u001b[0m\u001b[0;34m)\u001b[0m\u001b[0;34m\u001b[0m\u001b[0;34m\u001b[0m\u001b[0m\n\u001b[1;32m     23\u001b[0m         \u001b[0mx\u001b[0m \u001b[0;34m=\u001b[0m \u001b[0mF\u001b[0m\u001b[0;34m.\u001b[0m\u001b[0mrelu\u001b[0m\u001b[0;34m(\u001b[0m\u001b[0mself\u001b[0m\u001b[0;34m.\u001b[0m\u001b[0mfc2\u001b[0m\u001b[0;34m(\u001b[0m\u001b[0mx\u001b[0m\u001b[0;34m)\u001b[0m\u001b[0;34m)\u001b[0m\u001b[0;34m\u001b[0m\u001b[0;34m\u001b[0m\u001b[0m\n",
      "\u001b[0;32m/opt/conda/lib/python3.8/site-packages/torch/nn/functional.py\u001b[0m in \u001b[0;36mrelu\u001b[0;34m(input, inplace)\u001b[0m\n\u001b[1;32m   1134\u001b[0m         \u001b[0mresult\u001b[0m \u001b[0;34m=\u001b[0m \u001b[0mtorch\u001b[0m\u001b[0;34m.\u001b[0m\u001b[0mrelu_\u001b[0m\u001b[0;34m(\u001b[0m\u001b[0minput\u001b[0m\u001b[0;34m)\u001b[0m\u001b[0;34m\u001b[0m\u001b[0;34m\u001b[0m\u001b[0m\n\u001b[1;32m   1135\u001b[0m     \u001b[0;32melse\u001b[0m\u001b[0;34m:\u001b[0m\u001b[0;34m\u001b[0m\u001b[0;34m\u001b[0m\u001b[0m\n\u001b[0;32m-> 1136\u001b[0;31m         \u001b[0mresult\u001b[0m \u001b[0;34m=\u001b[0m \u001b[0mtorch\u001b[0m\u001b[0;34m.\u001b[0m\u001b[0mrelu\u001b[0m\u001b[0;34m(\u001b[0m\u001b[0minput\u001b[0m\u001b[0;34m)\u001b[0m\u001b[0;34m\u001b[0m\u001b[0;34m\u001b[0m\u001b[0m\n\u001b[0m\u001b[1;32m   1137\u001b[0m     \u001b[0;32mreturn\u001b[0m \u001b[0mresult\u001b[0m\u001b[0;34m\u001b[0m\u001b[0;34m\u001b[0m\u001b[0m\n\u001b[1;32m   1138\u001b[0m \u001b[0;34m\u001b[0m\u001b[0m\n",
      "\u001b[0;32m/opt/conda/lib/python3.8/site-packages/torch/utils/data/_utils/signal_handling.py\u001b[0m in \u001b[0;36mhandler\u001b[0;34m(signum, frame)\u001b[0m\n\u001b[1;32m     64\u001b[0m         \u001b[0;31m# This following call uses `waitid` with WNOHANG from C side. Therefore,\u001b[0m\u001b[0;34m\u001b[0m\u001b[0;34m\u001b[0m\u001b[0;34m\u001b[0m\u001b[0m\n\u001b[1;32m     65\u001b[0m         \u001b[0;31m# Python can still get and update the process status successfully.\u001b[0m\u001b[0;34m\u001b[0m\u001b[0;34m\u001b[0m\u001b[0;34m\u001b[0m\u001b[0m\n\u001b[0;32m---> 66\u001b[0;31m         \u001b[0m_error_if_any_worker_fails\u001b[0m\u001b[0;34m(\u001b[0m\u001b[0;34m)\u001b[0m\u001b[0;34m\u001b[0m\u001b[0;34m\u001b[0m\u001b[0m\n\u001b[0m\u001b[1;32m     67\u001b[0m         \u001b[0;32mif\u001b[0m \u001b[0mprevious_handler\u001b[0m \u001b[0;32mis\u001b[0m \u001b[0;32mnot\u001b[0m \u001b[0;32mNone\u001b[0m\u001b[0;34m:\u001b[0m\u001b[0;34m\u001b[0m\u001b[0;34m\u001b[0m\u001b[0m\n\u001b[1;32m     68\u001b[0m             \u001b[0;32massert\u001b[0m \u001b[0mcallable\u001b[0m\u001b[0;34m(\u001b[0m\u001b[0mprevious_handler\u001b[0m\u001b[0;34m)\u001b[0m\u001b[0;34m\u001b[0m\u001b[0;34m\u001b[0m\u001b[0m\n",
      "\u001b[0;31mRuntimeError\u001b[0m: DataLoader worker (pid 20516) is killed by signal: Bus error. It is possible that dataloader's workers are out of shared memory. Please try to raise your shared memory limit."
     ]
    }
   ],
   "source": [
    "for epoch in range(2): #데이터셋 2번 받기\n",
    "    running_loss = 0.0\n",
    "    for i, data in enumerate(Dataloader_CDataset, 0):\n",
    "        # 입력 받기 (데이터 [입력, 라벨(정답)]으로 이루어짐)\n",
    "        inputs, labels = data\n",
    "        #학습\n",
    "        optimizer.zero_grad()\n",
    "        outputs = net(inputs)\n",
    "        print(outputs)\n",
    "        loss = criterion(outputs, labels)\n",
    "        loss.backward()\n",
    "        optimizer.step()\n",
    "        # 결과 출력\n",
    "        running_loss += loss.item()\n",
    "        if i % 2000 == 1999: # print every 2000개마다\n",
    "            print('[%d, %5d] loss: %.3f' %(epoch + 1, i + 1, running_loss / 2000))\n",
    "            running_loss = 0.0\n",
    "print('Finished Training')\n",
    "#PATH = './cifar_net.pth'\n",
    "#torch.save(net.state_dict(), PATH)\n"
   ]
  },
  {
   "cell_type": "code",
   "execution_count": null,
   "id": "51696ecf-3292-4f9b-81c3-0a000625be8f",
   "metadata": {},
   "outputs": [],
   "source": [
    "class ResNet(nn.Module):\n",
    "    def __init__(\n",
    "        self,\n",
    "        block: Type[Union[BasicBlock, Bottleneck]],\n",
    "        layers: List[int],\n",
    "        num_classes: int = 1000,\n",
    "        zero_init_residual: bool = False,\n",
    "        norm_layer: Optional[Callable[..., nn.Module]] = None\n",
    "    ) -> None:\n",
    "        super(ResNet, self).__init__()\n",
    "        if norm_layer is None:\n",
    "            norm_layer = nn.BatchNorm2d\n",
    "        self._norm_layer = norm_layer  # batch norm layer\n",
    "\n",
    "        self.inplanes = 64  # input shape\n",
    "        self.dilation = 1  # dilation fixed\n",
    "        self.groups = 1  # groups fixed\n",
    "        \n",
    "        # input block\n",
    "        self.conv1 = nn.Conv2d(3, self.inplanes, kernel_size=7, stride=2, padding=3,\n",
    "                               bias=False)\n",
    "        self.bn1 = norm_layer(self.inplanes)\n",
    "        self.relu = nn.ReLU(inplace=True)\n",
    "        self.maxpool = nn.MaxPool2d(kernel_size=3, stride=2, padding=1)\n",
    "        \n",
    "        # residual blocks\n",
    "        self.layer1 = self._make_layer(block, 64, layers[0])\n",
    "        self.layer2 = self._make_layer(block, 128, layers[1], stride=2,\n",
    "                                       dilate=False)\n",
    "        self.layer3 = self._make_layer(block, 256, layers[2], stride=2,\n",
    "                                       dilate=False)\n",
    "        self.layer4 = self._make_layer(block, 512, layers[3], stride=2,\n",
    "                                       dilate=False)\n",
    "        self.avgpool = nn.AdaptiveAvgPool2d((1, 1))\n",
    "        self.fc = nn.Linear(512, num_classes)\n",
    "\n",
    "        \n",
    "        # weight initialization\n",
    "        for m in self.modules():\n",
    "            if isinstance(m, nn.Conv2d):\n",
    "                nn.init.kaiming_normal_(m.weight, mode='fan_out', nonlinearity='relu')\n",
    "            elif isinstance(m, (nn.BatchNorm2d, nn.GroupNorm)):\n",
    "                nn.init.constant_(m.weight, 1)\n",
    "                nn.init.constant_(m.bias, 0)\n",
    "\n",
    "        # Zero-initialize the last BN in each residual branch,\n",
    "        # so that the residual branch starts with zeros, and each residual block behaves like an identity.\n",
    "        # This improves the model by 0.2~0.3% according to https://arxiv.org/abs/1706.02677\n",
    "        if zero_init_residual:\n",
    "            for m in self.modules():\n",
    "                if isinstance(m, Bottleneck):\n",
    "                    nn.init.constant_(m.bn3.weight, 0)  # type: ignore[arg-type]\n",
    "                elif isinstance(m, BasicBlock):\n",
    "                    nn.init.constant_(m.bn2.weight, 0)  # type: ignore[arg-type]\n",
    "\n",
    "    def _make_layer(self, block: Type[Union[BasicBlock, Bottleneck]], planes: int, blocks: int,\n",
    "                    stride: int = 1, dilate: bool = False) -> nn.Sequential:\n",
    "        norm_layer = self._norm_layer\n",
    "        downsample = None\n",
    "        \n",
    "        # downsampling 필요할경우 downsample layer 생성\n",
    "        if stride != 1 or self.inplanes != planes:  \n",
    "            downsample = nn.Sequential(\n",
    "                conv1x1(self.inplanes, planes, stride),\n",
    "                norm_layer(planes),\n",
    "            )\n",
    "\n",
    "        layers = []\n",
    "        layers.append(block(self.inplanes, planes, stride, downsample, self.groups,\n",
    "                            self.dilation, norm_layer))\n",
    "        self.inplanes = planes\n",
    "        for _ in range(1, blocks):\n",
    "            layers.append(block(self.inplanes, planes, groups=self.groups,\n",
    "                                 dilation=self.dilation,\n",
    "                                norm_layer=norm_layer))\n",
    "\n",
    "        return nn.Sequential(*layers)\n",
    "\n",
    "    def forward(self, x: Tensor) -> Tensor:\n",
    "        print('input shape:', x.shape)\n",
    "        x = self.conv1(x)\n",
    "        print('conv1 shape:', x.shape)\n",
    "        x = self.bn1(x)\n",
    "        print('bn1 shape:', x.shape)\n",
    "        x = self.relu(x)\n",
    "        print('relu shape:', x.shape)\n",
    "        x = self.maxpool(x)\n",
    "        print('maxpool shape:', x.shape)\n",
    "\n",
    "        x = self.layer1(x)\n",
    "        print('layer1 shape:', x.shape)\n",
    "        x = self.layer2(x)\n",
    "        print('layer2 shape:', x.shape)\n",
    "        x = self.layer3(x)\n",
    "        print('layer3 shape:', x.shape)\n",
    "        x = self.layer4(x)\n",
    "        print('layer4 shape:', x.shape)\n",
    "\n",
    "        x = self.avgpool(x)\n",
    "        print('avgpool shape:', x.shape)\n",
    "        x = torch.flatten(x, 1)\n",
    "        print('flatten shape:', x.shape)\n",
    "        x = self.fc(x)\n",
    "        print('fc shape:', x.shape)\n",
    "\n",
    "        return x"
   ]
  },
  {
   "cell_type": "code",
   "execution_count": 84,
   "id": "4a18a8b4-df0f-4b89-a6c0-0cea23805069",
   "metadata": {},
   "outputs": [
    {
     "data": {
      "text/plain": [
       "tensor([[[0.6745, 0.6745, 0.6745,  ..., 0.7529, 0.7451, 0.7490],\n",
       "         [0.6745, 0.6745, 0.6745,  ..., 0.7608, 0.7569, 0.7647],\n",
       "         [0.6745, 0.6745, 0.6745,  ..., 0.7686, 0.7647, 0.7725],\n",
       "         ...,\n",
       "         [0.0745, 0.1882, 0.4745,  ..., 0.3882, 0.3961, 0.3922],\n",
       "         [0.1216, 0.1843, 0.4863,  ..., 0.3843, 0.3922, 0.3843],\n",
       "         [0.1333, 0.1725, 0.4941,  ..., 0.3843, 0.3922, 0.3843]],\n",
       "\n",
       "        [[0.6784, 0.6784, 0.6784,  ..., 0.7059, 0.6980, 0.7020],\n",
       "         [0.6784, 0.6784, 0.6784,  ..., 0.7137, 0.7098, 0.7176],\n",
       "         [0.6784, 0.6784, 0.6784,  ..., 0.7216, 0.7176, 0.7255],\n",
       "         ...,\n",
       "         [0.0784, 0.1922, 0.4784,  ..., 0.4510, 0.4627, 0.4588],\n",
       "         [0.1373, 0.2000, 0.5020,  ..., 0.4471, 0.4588, 0.4510],\n",
       "         [0.1490, 0.1882, 0.5098,  ..., 0.4471, 0.4588, 0.4510]],\n",
       "\n",
       "        [[0.6471, 0.6471, 0.6471,  ..., 0.6588, 0.6510, 0.6549],\n",
       "         [0.6471, 0.6471, 0.6471,  ..., 0.6667, 0.6627, 0.6706],\n",
       "         [0.6471, 0.6471, 0.6471,  ..., 0.6745, 0.6706, 0.6784],\n",
       "         ...,\n",
       "         [0.0863, 0.2000, 0.4863,  ..., 0.4118, 0.4314, 0.4275],\n",
       "         [0.1412, 0.2039, 0.5059,  ..., 0.4078, 0.4275, 0.4196],\n",
       "         [0.1529, 0.1922, 0.5137,  ..., 0.4078, 0.4275, 0.4196]]])"
      ]
     },
     "execution_count": 84,
     "metadata": {},
     "output_type": "execute_result"
    }
   ],
   "source": [
    "img_data[0]"
   ]
  },
  {
   "cell_type": "code",
   "execution_count": 445,
   "id": "0eefd3d0-9755-4fa4-989b-a77f41f0b112",
   "metadata": {},
   "outputs": [],
   "source": [
    "class TRAIN_CDataset(Dataset):\n",
    "    def __init__(self,train=True):\n",
    "        self.df = pd.read_csv('./train_label3.csv')\n",
    "        #self.X = Image.open('./images/' + self.df.loc[idx]['path'] + '/' + self.df.loc[idx]['fname'])\n",
    "        #self.y = self.df.loc[idx]['label']\n",
    "        #self.d_idx = d_index\n",
    "    def __len__(self):\n",
    "        return len(self.df)\n",
    "    def __getitem__(self,idx):\n",
    "        #data_index = self.d_idx\n",
    "        X = Image.open('./images/' + self.df.loc[idx]['path'] + '/' + self.df.loc[idx]['fname'])\n",
    "        #X = transforms.CenterCrop(270)(X)\n",
    "        y = self.df.loc[idx]['label'] \n",
    "        #print(y)\n",
    "        X = transforms.ToTensor()(X)\n",
    "        y = torch.tensor(y)\n",
    "        return X,y"
   ]
  },
  {
   "cell_type": "code",
   "execution_count": 446,
   "id": "e5567dcb-35a7-464a-a46a-3d9b291c56fe",
   "metadata": {},
   "outputs": [],
   "source": [
    "class TEST_CDataset(Dataset):\n",
    "    def __init__(self,train=True):\n",
    "        self.df = pd.read_csv('./test_label3.csv')\n",
    "        #self.X = Image.open('./images/' + self.df.loc[idx]['path'] + '/' + self.df.loc[idx]['fname'])\n",
    "        #self.y = self.df.loc[idx]['label']\n",
    "        #self.d_idx = d_index\n",
    "    def __len__(self):\n",
    "        return len(self.df)\n",
    "    def __getitem__(self,idx):\n",
    "        #data_index = self.d_idx\n",
    "        X = Image.open('./images/' + self.df.loc[idx]['path'] + '/' + self.df.loc[idx]['fname'])\n",
    "        #X = transforms.CenterCrop(270)(X)\n",
    "        y = self.df.loc[idx]['label'] \n",
    "        #print(y)\n",
    "        X = transforms.ToTensor()(X)\n",
    "        y = torch.tensor(y)\n",
    "        return X,y"
   ]
  },
  {
   "cell_type": "code",
   "execution_count": 447,
   "id": "b08f32e8-c97f-431f-9cb7-99701404bd97",
   "metadata": {},
   "outputs": [],
   "source": [
    "train_ds = TRAIN_CDataset(train=True)\n",
    "test_ds = TEST_CDataset(train=False)"
   ]
  },
  {
   "cell_type": "code",
   "execution_count": 448,
   "id": "0ec22195-4e5b-4e44-b183-2ed633b495d4",
   "metadata": {},
   "outputs": [],
   "source": [
    "train_dl = DataLoader(train_ds,\n",
    "                      batch_size=16,\n",
    "                      shuffle=True,\n",
    "                      num_workers=2,\n",
    "                     drop_last=True)\n",
    "test_dl = DataLoader(test_ds,\n",
    "                     batch_size=16,\n",
    "                     shuffle=True,\n",
    "                     num_workers=2,\n",
    "                    drop_last=True)"
   ]
  },
  {
   "cell_type": "code",
   "execution_count": null,
   "id": "73d28b3d-a8db-4fcc-bad1-32bc08f1d674",
   "metadata": {},
   "outputs": [],
   "source": []
  },
  {
   "cell_type": "code",
   "execution_count": 420,
   "id": "7c84752a-d0c7-49d1-9cae-2689ade2950f",
   "metadata": {},
   "outputs": [],
   "source": [
    "class BasicBlock(nn.Module):\n",
    "    expansion = 1\n",
    "    def __init__(self, in_channels, out_channels, stride=1):\n",
    "        super().__init__()\n",
    "        self.residual_function = nn.Sequential(nn.Conv2d(in_channels, out_channels,kernel_size=3,\n",
    "                                                         stride=stride, padding=1, bias=False),\n",
    "                                               nn.BatchNorm2d(out_channels),\n",
    "                                               nn.ReLU(),\n",
    "                                               nn.Conv2d(out_channels, out_channels * BasicBlock.expansion,\n",
    "                                                         kernel_size=3, stride=1, padding=1, bias=False),\n",
    "                                               nn.BatchNorm2d(out_channels * BasicBlock.expansion),)\n",
    "        self.shortcut = nn.Sequential()\n",
    "        self.relu = nn.ReLU()\n",
    "        \n",
    "        if stride != 1 or in_channels != BasicBlock.expansion * out_channels:\n",
    "            self.shortcut = nn.Sequential(nn.Conv2d(in_channels, out_channels * BasicBlock.expansion,\n",
    "                                                    kernel_size=1, stride=stride, bias=False),\n",
    "                                          nn.BatchNorm2d(out_channels * BasicBlock.expansion))\n",
    "    def forward(self,x):\n",
    "        x = self.residual_function(x) + self.shortcut(x)\n",
    "        x = self.relu(x)\n",
    "        return x"
   ]
  },
  {
   "cell_type": "code",
   "execution_count": 421,
   "id": "14d1bf02-5b9b-4fe9-b570-ab8988d82299",
   "metadata": {},
   "outputs": [],
   "source": [
    "class BottleNeck(nn.Module):\n",
    "    expansion = 4\n",
    "    def __init__(self, in_channels, out_channels, stride=1):\n",
    "        super().__init__()\n",
    "        self.residual_function = nn.Sequential(nn.Conv2d(in_channels, out_channels, kernel_size=1,\n",
    "                                                         stride=1,bias=False),\n",
    "                                               nn.BatchNorm2d(out_channels),\n",
    "                                               nn.ReLU(),\n",
    "                                               nn.Conv2d(out_channels, out_channels, kernel_size=3,\n",
    "                                                         stride=stride, padding=1, bias=False),\n",
    "                                               nn.BatchNorm2d(out_channels),\n",
    "                                               nn.ReLU(),\n",
    "                                               nn.Conv2d(out_channels, out_channels * BottleNeck.expansion,\n",
    "                                                         kernel_size=1, stride=1, bias=False),\n",
    "                                               nn.BatchNorm2d(out_channels * BottleNeck.expansion),)\n",
    "        self.shortcut = nn.Sequential()\n",
    "        self.relu = nn.ReLU()\n",
    "        \n",
    "        if stride != 1 or in_channels != out_channels * BottleNeck.expansion:\n",
    "            self.shortcut = nn.Sequential(nn.Conv2d(in_channels, out_channels * BottleNeck.expansion,\n",
    "                                                     kernel_size=1, stride=stride, bias=False),\n",
    "                                           nn.BatchNorm2d(out_channels * BottleNeck.expansion))\n",
    "            \n",
    "    def forward(self,x):\n",
    "        x = self.residual_function(x) + self.shortcut(x)\n",
    "        x = self.relu(x)\n",
    "        \n",
    "        return x"
   ]
  },
  {
   "cell_type": "code",
   "execution_count": 422,
   "id": "7696a0bf-7b93-46cd-a643-8381e712b020",
   "metadata": {},
   "outputs": [],
   "source": [
    "class ResNet(nn.Module):\n",
    "    def __init__(self, block, num_block, num_classes=18, init_weights=True):\n",
    "        super().__init__()\n",
    "\n",
    "        self.in_channels=64\n",
    "\n",
    "        self.conv1 = nn.Sequential(\n",
    "            nn.Conv2d(3, 64, kernel_size=7, stride=2, padding=3, bias=False),\n",
    "            nn.BatchNorm2d(64),\n",
    "            nn.ReLU(),\n",
    "            nn.MaxPool2d(kernel_size=3, stride=2, padding=1)\n",
    "        )\n",
    "\n",
    "        self.conv2_x = self._make_layer(block, 64, num_block[0], 1)\n",
    "        self.conv3_x = self._make_layer(block, 128, num_block[1], 2)\n",
    "        self.conv4_x = self._make_layer(block, 256, num_block[2], 2)\n",
    "        self.conv5_x = self._make_layer(block, 512, num_block[3], 2)\n",
    "\n",
    "        self.avg_pool = nn.AdaptiveAvgPool2d((1,1))\n",
    "        self.fc = nn.Linear(512 * block.expansion, num_classes)\n",
    "\n",
    "        # weights inittialization\n",
    "        if init_weights:\n",
    "            self._initialize_weights()\n",
    "\n",
    "    def _make_layer(self, block, out_channels, num_blocks, stride):\n",
    "        strides = [stride] + [1] * (num_blocks - 1)\n",
    "        layers = []\n",
    "        for stride in strides:\n",
    "            layers.append(block(self.in_channels, out_channels, stride))\n",
    "            self.in_channels = out_channels * block.expansion\n",
    "\n",
    "        return nn.Sequential(*layers)\n",
    "\n",
    "    def forward(self,x):\n",
    "        output = self.conv1(x)\n",
    "        output = self.conv2_x(output)\n",
    "        x = self.conv3_x(output)\n",
    "        x = self.conv4_x(x)\n",
    "        x = self.conv5_x(x)\n",
    "        x = self.avg_pool(x)\n",
    "        x = x.view(x.size(0), -1)\n",
    "        x = self.fc(x)\n",
    "        return x\n",
    "\n",
    "    # define weight initialization function\n",
    "    def _initialize_weights(self):\n",
    "        for m in self.modules():\n",
    "            if isinstance(m, nn.Conv2d):\n",
    "                nn.init.kaiming_normal_(m.weight, mode='fan_out', nonlinearity='relu')\n",
    "                if m.bias is not None:\n",
    "                    nn.init.constant_(m.bias, 0)\n",
    "            elif isinstance(m, nn.BatchNorm2d):\n",
    "                nn.init.constant_(m.weight, 1)\n",
    "                nn.init.constant_(m.bias, 0)\n",
    "            elif isinstance(m, nn.Linear):\n",
    "                nn.init.normal_(m.weight, 0, 0.01)\n",
    "                nn.init.constant_(m.bias, 0)"
   ]
  },
  {
   "cell_type": "code",
   "execution_count": 423,
   "id": "07045cd3-f6bc-49ea-aa68-317dbbe006f9",
   "metadata": {},
   "outputs": [],
   "source": [
    "def resnet18():\n",
    "    return ResNet(BasicBlock, [2,2,2,2])\n",
    "def resnet34():\n",
    "    return ResNet(BasicBlock, [3,4,6,3])\n",
    "def resnet50():\n",
    "    return ResNet(BottleNeck, [3,4,6,3])\n",
    "def resnet101():\n",
    "    return ResNet(BottleNeck, [3,4,23,3])\n",
    "def resnet152():\n",
    "    return ResNet(BottleNeck, [3,8,36,3])"
   ]
  },
  {
   "cell_type": "code",
   "execution_count": 424,
   "id": "ea3371d9-b8b4-4fb0-9966-ef2be4a978f9",
   "metadata": {},
   "outputs": [],
   "source": [
    "device = torch.device('cuda')"
   ]
  },
  {
   "cell_type": "code",
   "execution_count": 425,
   "id": "7aecf865-3426-42b4-b16a-b30304676f2f",
   "metadata": {},
   "outputs": [
    {
     "name": "stdout",
     "output_type": "stream",
     "text": [
      "torch.Size([3, 18])\n"
     ]
    }
   ],
   "source": [
    "model = resnet50().to(device)\n",
    "x = torch.randn(3,3,244,244).to(device)\n",
    "output = model(x)\n",
    "print(output.size())"
   ]
  },
  {
   "cell_type": "code",
   "execution_count": 426,
   "id": "d762898e-1b9c-484a-a5b4-1ef56b881474",
   "metadata": {},
   "outputs": [],
   "source": [
    "loss_func = nn.CrossEntropyLoss(reduction='sum')\n",
    "opt = optim.Adam(model.parameters(), lr=0.001)\n",
    "\n",
    "from torch.optim.lr_scheduler import ReduceLROnPlateau\n",
    "lr_scheduler = ReduceLROnPlateau(opt, mode='min', factor=0.1, patience=10)"
   ]
  },
  {
   "cell_type": "code",
   "execution_count": 427,
   "id": "fd2c5475-30f7-436c-954d-a1028017ef1f",
   "metadata": {},
   "outputs": [],
   "source": [
    "def get_lr(opt):\n",
    "    for param_group in opt.param_groups:\n",
    "        return param_group['lr']"
   ]
  },
  {
   "cell_type": "code",
   "execution_count": 428,
   "id": "64ca3523-ab17-45a5-8b45-afcbfc686b9f",
   "metadata": {},
   "outputs": [],
   "source": [
    "def metric_batch(output, target):\n",
    "    pred = output.argmax(1, keepdim=True)\n",
    "    corrects = pred.eq(target.view_as(pred)).sum().item()\n",
    "    return corrects\n",
    "\n",
    "def loss_batch(loss_func, output, target, opt=None):\n",
    "    loss = loss_func(output, target)\n",
    "    metric_b = metric_batch(output, target)\n",
    "    \n",
    "    if opt is not None:\n",
    "        opt.zero_grad()\n",
    "        loss.backward()\n",
    "        opt.step()\n",
    "        \n",
    "    return loss.item(), metric_b"
   ]
  },
  {
   "cell_type": "code",
   "execution_count": 429,
   "id": "e02fee9a-b1de-473d-ae35-261d4fca7990",
   "metadata": {},
   "outputs": [],
   "source": [
    "def loss_epoch(model, loss_func, dataset_dl, sanity_check=False, opt=None):\n",
    "    running_loss = 0.0\n",
    "    running_metric = 0.0\n",
    "    len_data = len(dataset_dl.dataset)\n",
    "\n",
    "    for xb, yb in dataset_dl:\n",
    "        xb = xb.to(device)\n",
    "\n",
    "        yb = yb.to(device)\n",
    "\n",
    "        output = model(xb)\n",
    "\n",
    "\n",
    "        loss_b, metric_b = loss_batch(loss_func, output, yb, opt)\n",
    "\n",
    "        running_loss += loss_b\n",
    "        \n",
    "        if metric_b is not None:\n",
    "            running_metric += metric_b\n",
    "        \n",
    "        if sanity_check is True:\n",
    "            break\n",
    "\n",
    "    loss = running_loss / len_data\n",
    "    metric = running_metric / len_data\n",
    "\n",
    "    return loss, metric"
   ]
  },
  {
   "cell_type": "code",
   "execution_count": null,
   "id": "0bf4f11d-9ac1-43f4-8552-367875cd676c",
   "metadata": {},
   "outputs": [],
   "source": []
  },
  {
   "cell_type": "code",
   "execution_count": 430,
   "id": "e9f00f46-1711-4cea-a1ce-1340d7393add",
   "metadata": {},
   "outputs": [],
   "source": [
    "def train_val(model, params):\n",
    "    num_epochs=params['num_epochs']\n",
    "    loss_func=params[\"loss_func\"]\n",
    "    opt=params[\"optimizer\"]\n",
    "    train_dl=params[\"train_dl\"]\n",
    "    test_dl=params[\"test_dl\"]\n",
    "    sanity_check=params[\"sanity_check\"]\n",
    "    lr_scheduler=params[\"lr_scheduler\"]\n",
    "    path2weights=params[\"path2weights\"]\n",
    "\n",
    "    loss_history = {'train': [], 'val': []}\n",
    "    metric_history = {'train': [], 'val': []}\n",
    "\n",
    "    # # GPU out of memoty error\n",
    "    # best_model_wts = copy.deepcopy(model.state_dict())\n",
    "\n",
    "    best_loss = float('inf')\n",
    "\n",
    "    start_time = time.time()\n",
    "\n",
    "    for epoch in range(num_epochs):\n",
    "        current_lr = get_lr(opt)\n",
    "        print('Epoch {}/{}, current lr={}'.format(epoch, num_epochs-1, current_lr))\n",
    "\n",
    "        model.train()\n",
    "        train_loss, train_metric = loss_epoch(model, loss_func, train_dl, sanity_check, opt)\n",
    "        loss_history['train'].append(train_loss)\n",
    "        metric_history['train'].append(train_metric)\n",
    "\n",
    "        model.eval()\n",
    "        with torch.no_grad():\n",
    "            val_loss, val_metric = loss_epoch(model, loss_func, test_dl, sanity_check)\n",
    "        loss_history['val'].append(val_loss)\n",
    "        metric_history['val'].append(val_metric)\n",
    "\n",
    "        if val_loss < best_loss:\n",
    "            best_loss = val_loss\n",
    "            # best_model_wts = copy.deepcopy(model.state_dict())\n",
    "\n",
    "            # torch.save(model.state_dict(), path2weights)\n",
    "            # print('Copied best model weights!')\n",
    "            print('Get best val_loss')\n",
    "\n",
    "        lr_scheduler.step(val_loss)\n",
    "\n",
    "        print('train loss: %.6f, val loss: %.6f, accuracy: %.2f, time: %.4f min' %(train_loss, val_loss, 100*val_metric, (time.time()-start_time)/60))\n",
    "        print('-'*10)\n",
    "\n",
    "    # model.load_state_dict(best_model_wts)\n",
    "\n",
    "    return model, loss_history, metric_history"
   ]
  },
  {
   "cell_type": "code",
   "execution_count": 439,
   "id": "dffdb605-1a7e-47e9-a2cf-bd707e3e20d5",
   "metadata": {},
   "outputs": [],
   "source": [
    "# definc the training parameters\n",
    "params_train = {\n",
    "    'num_epochs':25,\n",
    "    'optimizer':opt,\n",
    "    'loss_func':loss_func,\n",
    "    'train_dl':train_dl,\n",
    "    'test_dl':test_dl,\n",
    "    'sanity_check':False,\n",
    "    'lr_scheduler':lr_scheduler,\n",
    "    'path2weights':'./weights.pt',\n",
    "}\n",
    "\n",
    "# create the directory that stores weights.pt\n",
    "def createFolder(directory):\n",
    "    try:\n",
    "        if not os.path.exists(directory):\n",
    "            os.makedirs(directory)\n",
    "    except OSerror:\n",
    "        print('Error')\n",
    "createFolder('./models')"
   ]
  },
  {
   "cell_type": "code",
   "execution_count": 432,
   "id": "80063aea-f944-490d-9df1-bec7b332b40a",
   "metadata": {},
   "outputs": [],
   "source": [
    "test_dir = '/opt/ml/input/data/eval'\n",
    "class Submission_Dataset(Dataset):\n",
    "    def __init__(self,subm_path):\n",
    "        self.subm_path = subm_path\n",
    "        self.df = pd.read_csv(os.path.join(self.subm_path,'info.csv'))\n",
    "    def __len__(self):\n",
    "        return len(self.df)\n",
    "    def __getitem__(self,idx):\n",
    "        X = Image.open(self.subm_path + '/images/' + self.df.loc[idx]['ImageID'])\n",
    "        X = transforms.ToTensor()(X)\n",
    "        return X"
   ]
  },
  {
   "cell_type": "code",
   "execution_count": 440,
   "id": "986e4ab2-0f22-4219-b34a-1d042663d57a",
   "metadata": {},
   "outputs": [],
   "source": [
    "ex_subm_dataset = Submission_Dataset(test_dir)\n",
    "ex_subm_dl = DataLoader(ex_subm_dataset,\n",
    "                        shuffle=False)"
   ]
  },
  {
   "cell_type": "code",
   "execution_count": 450,
   "id": "1134b64a-c5de-44c6-af94-c726cd881dae",
   "metadata": {},
   "outputs": [],
   "source": [
    "a=1"
   ]
  },
  {
   "cell_type": "code",
   "execution_count": null,
   "id": "534c0d31-86ba-43e9-9fca-4a9e4380feab",
   "metadata": {},
   "outputs": [],
   "source": []
  },
  {
   "cell_type": "code",
   "execution_count": null,
   "id": "1a2a5b9c-7725-4247-a3bf-65e081e8df01",
   "metadata": {},
   "outputs": [
    {
     "name": "stdout",
     "output_type": "stream",
     "text": [
      "Epoch 0/24, current lr=1e-05\n",
      "Get best val_loss\n",
      "train loss: 0.006695, val loss: 0.160751, accuracy: 94.90, time: 3.8222 min\n",
      "----------\n",
      "Epoch 1/24, current lr=1e-05\n",
      "train loss: 0.006738, val loss: 0.176428, accuracy: 94.60, time: 7.6227 min\n",
      "----------\n",
      "Epoch 2/24, current lr=1.0000000000000002e-06\n",
      "Get best val_loss\n",
      "train loss: 0.007202, val loss: 0.156691, accuracy: 95.10, time: 11.4181 min\n",
      "----------\n",
      "Epoch 3/24, current lr=1.0000000000000002e-06\n",
      "train loss: 0.008270, val loss: 0.158330, accuracy: 94.79, time: 15.2174 min\n",
      "----------\n",
      "Epoch 4/24, current lr=1.0000000000000002e-06\n",
      "Get best val_loss\n",
      "train loss: 0.005154, val loss: 0.148509, accuracy: 95.35, time: 19.0239 min\n",
      "----------\n",
      "Epoch 5/24, current lr=1.0000000000000002e-06\n",
      "train loss: 0.008495, val loss: 0.159690, accuracy: 94.73, time: 22.8360 min\n",
      "----------\n",
      "Epoch 6/24, current lr=1.0000000000000002e-06\n",
      "Get best val_loss\n",
      "train loss: 0.006919, val loss: 0.140891, accuracy: 95.29, time: 26.6359 min\n",
      "----------\n",
      "Epoch 7/24, current lr=1.0000000000000002e-06\n",
      "train loss: 0.007047, val loss: 0.151438, accuracy: 94.98, time: 30.4350 min\n",
      "----------\n",
      "Epoch 8/24, current lr=1.0000000000000002e-06\n",
      "train loss: 0.006219, val loss: 0.144496, accuracy: 95.29, time: 34.2435 min\n",
      "----------\n",
      "Epoch 9/24, current lr=1.0000000000000002e-06\n",
      "Get best val_loss\n",
      "train loss: 0.005768, val loss: 0.134741, accuracy: 95.56, time: 38.0512 min\n",
      "----------\n",
      "Epoch 10/24, current lr=1.0000000000000002e-06\n",
      "train loss: 0.005123, val loss: 0.149133, accuracy: 95.16, time: 41.8548 min\n",
      "----------\n",
      "Epoch 11/24, current lr=1.0000000000000002e-06\n",
      "train loss: 0.006163, val loss: 0.161533, accuracy: 95.03, time: 45.6671 min\n",
      "----------\n",
      "Epoch 12/24, current lr=1.0000000000000002e-06\n",
      "train loss: 0.007022, val loss: 0.142663, accuracy: 95.32, time: 49.5416 min\n",
      "----------\n",
      "Epoch 13/24, current lr=1.0000000000000002e-07\n",
      "train loss: 0.007389, val loss: 0.157483, accuracy: 94.94, time: 53.3833 min\n",
      "----------\n",
      "Epoch 14/24, current lr=1.0000000000000002e-07\n",
      "train loss: 0.006458, val loss: 0.142587, accuracy: 95.25, time: 57.2021 min\n",
      "----------\n",
      "Epoch 15/24, current lr=1.0000000000000002e-07\n",
      "train loss: 0.005255, val loss: 0.164833, accuracy: 94.83, time: 60.9978 min\n",
      "----------\n",
      "Epoch 16/24, current lr=1.0000000000000002e-07\n",
      "train loss: 0.006583, val loss: 0.143378, accuracy: 95.38, time: 64.7908 min\n",
      "----------\n",
      "Epoch 17/24, current lr=1.0000000000000002e-07\n",
      "train loss: 0.007119, val loss: 0.140312, accuracy: 95.46, time: 68.5941 min\n",
      "----------\n",
      "Epoch 18/24, current lr=1.0000000000000002e-07\n",
      "train loss: 0.005837, val loss: 0.179028, accuracy: 94.33, time: 72.4086 min\n",
      "----------\n",
      "Epoch 19/24, current lr=1.0000000000000002e-07\n",
      "train loss: 0.005902, val loss: 0.144121, accuracy: 95.25, time: 76.2246 min\n",
      "----------\n",
      "Epoch 20/24, current lr=1.0000000000000002e-07\n",
      "train loss: 0.006458, val loss: 0.140990, accuracy: 95.56, time: 80.0418 min\n",
      "----------\n",
      "Epoch 21/24, current lr=1.0000000000000002e-07\n",
      "train loss: 0.008255, val loss: 0.158709, accuracy: 94.73, time: 83.8574 min\n",
      "----------\n",
      "Epoch 22/24, current lr=1.0000000000000002e-07\n",
      "train loss: 0.006459, val loss: 0.154741, accuracy: 94.98, time: 87.6887 min\n",
      "----------\n",
      "Epoch 23/24, current lr=1.0000000000000002e-07\n",
      "train loss: 0.006124, val loss: 0.150277, accuracy: 95.19, time: 91.5014 min\n",
      "----------\n",
      "Epoch 24/24, current lr=1.0000000000000004e-08\n",
      "train loss: 0.005586, val loss: 0.150432, accuracy: 95.21, time: 95.3204 min\n",
      "----------\n",
      "******************************\n",
      "*#**#**#**#**#**#**#**#**#**#*\n",
      "******************************\n"
     ]
    }
   ],
   "source": [
    "model, loss_hist, metric_hist = train_val(model, params_train)\n",
    "\n",
    "print('***'*10)\n",
    "print('*#*'*10)\n",
    "print('***'*10)\n",
    "\n",
    "all_predictions = []\n",
    "for images in ex_subm_dl:\n",
    "    with torch.no_grad():\n",
    "        images = images.to(device)\n",
    "        pred = model(images)\n",
    "        pred = pred.argmax(dim=-1)\n",
    "        all_predictions.extend(pred.cpu().numpy())\n",
    "submission['ans'] = all_predictions\n",
    "\n",
    "# 제출할 파일을 저장합니다.\n",
    "submission.to_csv(os.path.join(test_dir, 'submission6.csv'), index=False)\n",
    "print('test inference is done!')"
   ]
  },
  {
   "cell_type": "code",
   "execution_count": 444,
   "id": "734fc56e-d157-41a3-8411-9e0b075da901",
   "metadata": {},
   "outputs": [
    {
     "name": "stdout",
     "output_type": "stream",
     "text": [
      "test inference is done!\n"
     ]
    }
   ],
   "source": [
    "all_predictions = []\n",
    "for images in ex_subm_dl:\n",
    "    with torch.no_grad():\n",
    "        images = images.to(device)\n",
    "        pred = model(images)\n",
    "        pred = pred.argmax(dim=-1)\n",
    "        all_predictions.extend(pred.cpu().numpy())\n",
    "submission['ans'] = all_predictions\n",
    "\n",
    "# 제출할 파일을 저장합니다.\n",
    "submission.to_csv(os.path.join(test_dir, 'submission5.csv'), index=False)\n",
    "print('test inference is done!')"
   ]
  },
  {
   "cell_type": "code",
   "execution_count": null,
   "id": "9d23b7f4-0bae-425d-85fa-e1e8a69afa5d",
   "metadata": {},
   "outputs": [],
   "source": []
  },
  {
   "cell_type": "code",
   "execution_count": 442,
   "id": "3323a0d5-f992-493b-96a8-c0e1c4c241f8",
   "metadata": {},
   "outputs": [
    {
     "data": {
      "image/png": "[encoded data removed]",
      "text/plain": [
       "<Figure size 432x288 with 1 Axes>"
      ]
     },
     "metadata": {
      "needs_background": "light"
     },
     "output_type": "display_data"
    },
    {
     "data": {
      "image/png": "[encoded data removed]",
      "text/plain": [
       "<Figure size 432x288 with 1 Axes>"
      ]
     },
     "metadata": {
      "needs_background": "light"
     },
     "output_type": "display_data"
    }
   ],
   "source": [
    "num_epochs = params_train['num_epochs']\n",
    "\n",
    "plt.title('Train-Val Loss')\n",
    "plt.plot(range(1,num_epochs+1), loss_hist['train'], label='train')\n",
    "plt.plot(range(1,num_epochs+1), loss_hist['val'], label='val')\n",
    "plt.ylabel('loss')\n",
    "plt.xlabel('Training Epochs')\n",
    "plt.legend()\n",
    "plt.show()\n",
    "\n",
    "plt.title('Train-Val Accuracy')\n",
    "plt.plot(range(1,num_epochs+1), metric_hist['train'], label='train')\n",
    "plt.plot(range(1,num_epochs+1), metric_hist['val'], label='val')\n",
    "plt.ylabel('Accuracy')\n",
    "plt.xlabel('Training Epochs')\n",
    "plt.legend()\n",
    "plt.show()"
   ]
  },
  {
   "cell_type": "code",
   "execution_count": 443,
   "id": "62666605-a600-458c-b34e-83a6a2734ef7",
   "metadata": {},
   "outputs": [],
   "source": [
    "from sklearn.metrics import f1_score"
   ]
  },
  {
   "cell_type": "code",
   "execution_count": null,
   "id": "d1e97abc-2027-426e-9c81-688d318596b4",
   "metadata": {},
   "outputs": [],
   "source": [
    "for epoch in range(1,EPOCHS"
   ]
  },
  {
   "cell_type": "code",
   "execution_count": null,
   "id": "819d74dc-2174-4b73-b81c-c1bcb4ab5b12",
   "metadata": {},
   "outputs": [],
   "source": []
  },
  {
   "cell_type": "code",
   "execution_count": 337,
   "id": "7463f93a-ac69-4f89-aa13-6a318d985c9a",
   "metadata": {},
   "outputs": [],
   "source": [
    "from torchvision.transforms import Resize, ToTensor, Normalize"
   ]
  },
  {
   "cell_type": "code",
   "execution_count": 328,
   "id": "2dab0911-9ed5-48ad-9c99-c5763fc4aa87",
   "metadata": {},
   "outputs": [],
   "source": [
    "test_dir = '/opt/ml/input/data/eval'"
   ]
  },
  {
   "cell_type": "code",
   "execution_count": 408,
   "id": "2aea7e9e-2f81-4a61-a52c-36913994f084",
   "metadata": {},
   "outputs": [],
   "source": [
    "class Submission_Dataset(Dataset):\n",
    "    def __init__(self,subm_path):\n",
    "        self.subm_path = subm_path\n",
    "        self.df = pd.read_csv(os.path.join(self.subm_path,'info.csv'))\n",
    "    def __len__(self):\n",
    "        return len(self.df)\n",
    "    def __getitem__(self,idx):\n",
    "        X = Image.open(self.subm_path + '/images/' + self.df.loc[idx]['ImageID'])\n",
    "        X = transforms.ToTensor()(X)\n",
    "        return X"
   ]
  },
  {
   "cell_type": "code",
   "execution_count": 410,
   "id": "863d15b5-64c0-47d2-8217-d44d028ed34a",
   "metadata": {},
   "outputs": [],
   "source": [
    "ex_subm_dataset = Submission_Dataset(test_dir)\n",
    "ex_subm_dl = DataLoader(ex_subm_dataset,\n",
    "                        shuffle=False)"
   ]
  },
  {
   "cell_type": "code",
   "execution_count": 330,
   "id": "77bcfaf4-cb8d-47ad-8169-64277b30e53f",
   "metadata": {},
   "outputs": [],
   "source": [
    "class TestDataset(Dataset):\n",
    "    def __init__(self, img_paths, transform):\n",
    "        self.img_paths = img_paths\n",
    "        self.transform = transform\n",
    "\n",
    "    def __getitem__(self, index):\n",
    "        image = Image.open(self.img_paths[index])\n",
    "\n",
    "        if self.transform:\n",
    "            image = self.transform(image)\n",
    "        return image\n",
    "\n",
    "    def __len__(self):\n",
    "        return len(self.img_paths)"
   ]
  },
  {
   "cell_type": "code",
   "execution_count": 331,
   "id": "8ff862a7-0e30-4a6f-aff3-9a698b4392a6",
   "metadata": {},
   "outputs": [],
   "source": [
    "submission = pd.read_csv(os.path.join(test_dir, 'info.csv'))\n",
    "image_dir = os.path.join(test_dir, 'images')"
   ]
  },
  {
   "cell_type": "code",
   "execution_count": 397,
   "id": "46bf19de-4c23-49de-bb23-14c8b4613900",
   "metadata": {},
   "outputs": [
    {
     "data": {
      "text/html": [
       "<div>\n",
       "<style scoped>\n",
       "    .dataframe tbody tr th:only-of-type {\n",
       "        vertical-align: middle;\n",
       "    }\n",
       "\n",
       "    .dataframe tbody tr th {\n",
       "        vertical-align: top;\n",
       "    }\n",
       "\n",
       "    .dataframe thead th {\n",
       "        text-align: right;\n",
       "    }\n",
       "</style>\n",
       "<table border=\"1\" class=\"dataframe\">\n",
       "  <thead>\n",
       "    <tr style=\"text-align: right;\">\n",
       "      <th></th>\n",
       "      <th>ImageID</th>\n",
       "      <th>ans</th>\n",
       "    </tr>\n",
       "  </thead>\n",
       "  <tbody>\n",
       "    <tr>\n",
       "      <th>0</th>\n",
       "      <td>cbc5c6e168e63498590db46022617123f1fe1268.jpg</td>\n",
       "      <td>3</td>\n",
       "    </tr>\n",
       "    <tr>\n",
       "      <th>1</th>\n",
       "      <td>0e72482bf56b3581c081f7da2a6180b8792c7089.jpg</td>\n",
       "      <td>3</td>\n",
       "    </tr>\n",
       "    <tr>\n",
       "      <th>2</th>\n",
       "      <td>b549040c49190cedc41327748aeb197c1670f14d.jpg</td>\n",
       "      <td>0</td>\n",
       "    </tr>\n",
       "    <tr>\n",
       "      <th>3</th>\n",
       "      <td>4f9cb2a045c6d5b9e50ad3459ea7b791eb6e18bc.jpg</td>\n",
       "      <td>0</td>\n",
       "    </tr>\n",
       "    <tr>\n",
       "      <th>4</th>\n",
       "      <td>248428d9a4a5b6229a7081c32851b90cb8d38d0c.jpg</td>\n",
       "      <td>3</td>\n",
       "    </tr>\n",
       "    <tr>\n",
       "      <th>...</th>\n",
       "      <td>...</td>\n",
       "      <td>...</td>\n",
       "    </tr>\n",
       "    <tr>\n",
       "      <th>12595</th>\n",
       "      <td>d71d4570505d6af8f777690e63edfa8d85ea4476.jpg</td>\n",
       "      <td>3</td>\n",
       "    </tr>\n",
       "    <tr>\n",
       "      <th>12596</th>\n",
       "      <td>6cf1300e8e218716728d5820c0bab553306c2cfd.jpg</td>\n",
       "      <td>3</td>\n",
       "    </tr>\n",
       "    <tr>\n",
       "      <th>12597</th>\n",
       "      <td>8140edbba31c3a824e817e6d5fb95343199e2387.jpg</td>\n",
       "      <td>3</td>\n",
       "    </tr>\n",
       "    <tr>\n",
       "      <th>12598</th>\n",
       "      <td>030d439efe6fb5a7bafda45a393fc19f2bf57f54.jpg</td>\n",
       "      <td>3</td>\n",
       "    </tr>\n",
       "    <tr>\n",
       "      <th>12599</th>\n",
       "      <td>f1e0b9594ae9f72571f0a9dc67406ad41f2edab0.jpg</td>\n",
       "      <td>0</td>\n",
       "    </tr>\n",
       "  </tbody>\n",
       "</table>\n",
       "<p>12600 rows × 2 columns</p>\n",
       "</div>"
      ],
      "text/plain": [
       "                                            ImageID  ans\n",
       "0      cbc5c6e168e63498590db46022617123f1fe1268.jpg    3\n",
       "1      0e72482bf56b3581c081f7da2a6180b8792c7089.jpg    3\n",
       "2      b549040c49190cedc41327748aeb197c1670f14d.jpg    0\n",
       "3      4f9cb2a045c6d5b9e50ad3459ea7b791eb6e18bc.jpg    0\n",
       "4      248428d9a4a5b6229a7081c32851b90cb8d38d0c.jpg    3\n",
       "...                                             ...  ...\n",
       "12595  d71d4570505d6af8f777690e63edfa8d85ea4476.jpg    3\n",
       "12596  6cf1300e8e218716728d5820c0bab553306c2cfd.jpg    3\n",
       "12597  8140edbba31c3a824e817e6d5fb95343199e2387.jpg    3\n",
       "12598  030d439efe6fb5a7bafda45a393fc19f2bf57f54.jpg    3\n",
       "12599  f1e0b9594ae9f72571f0a9dc67406ad41f2edab0.jpg    0\n",
       "\n",
       "[12600 rows x 2 columns]"
      ]
     },
     "execution_count": 397,
     "metadata": {},
     "output_type": "execute_result"
    }
   ],
   "source": [
    "submission"
   ]
  },
  {
   "cell_type": "code",
   "execution_count": 334,
   "id": "d35073d7-d620-4221-aa8a-4afc117554b3",
   "metadata": {},
   "outputs": [],
   "source": [
    "image_paths = [os.path.join(image_dir, img_id) for img_id in submission.ImageID]"
   ]
  },
  {
   "cell_type": "code",
   "execution_count": 338,
   "id": "e547bd6b-9b42-4d1d-8cde-629427794c4c",
   "metadata": {},
   "outputs": [],
   "source": [
    "image_paths = [os.path.join(image_dir, img_id) for img_id in submission.ImageID]\n",
    "transform = transforms.Compose([\n",
    "    Resize((512, 384), Image.BILINEAR),\n",
    "    ToTensor(),\n",
    "    Normalize(mean=(0.5, 0.5, 0.5), std=(0.2, 0.2, 0.2)),\n",
    "])\n",
    "dataset = TestDataset(image_paths, transform)\n",
    "\n",
    "loader = DataLoader(\n",
    "    dataset,\n",
    "    shuffle=False\n",
    ")"
   ]
  },
  {
   "cell_type": "code",
   "execution_count": 396,
   "id": "5875a300-1a87-48cc-8ed6-67f86db8516a",
   "metadata": {},
   "outputs": [
    {
     "data": {
      "text/plain": [
       "tensor([[[[ 1.2843,  1.6373,  1.1863,  ..., -1.4216, -1.5196, -1.6373],\n",
       "          [ 0.0098, -0.2647, -0.6961,  ..., -1.5196, -1.5784, -1.6569],\n",
       "          [-0.7941, -1.2255, -0.9118,  ..., -1.6176, -1.6176, -1.6373],\n",
       "          ...,\n",
       "          [-2.0490, -2.0490, -2.0490,  ..., -1.7745, -1.7745, -1.6569],\n",
       "          [-2.0490, -2.0490, -2.0294,  ..., -1.7941, -1.8922, -1.8333],\n",
       "          [-1.9902, -1.9902, -1.9706,  ..., -1.8529, -2.0882, -2.0490]],\n",
       "\n",
       "         [[ 1.4412,  1.7941,  1.3627,  ..., -1.3824, -1.4804, -1.5980],\n",
       "          [ 0.1667, -0.1078, -0.5196,  ..., -1.4804, -1.5392, -1.6176],\n",
       "          [-0.6373, -1.0686, -0.7353,  ..., -1.5784, -1.5784, -1.5980],\n",
       "          ...,\n",
       "          [-1.9706, -1.9706, -1.9706,  ..., -1.6961, -1.6961, -1.5784],\n",
       "          [-1.9706, -1.9706, -1.9510,  ..., -1.7157, -1.8137, -1.7549],\n",
       "          [-1.9118, -1.9118, -1.8922,  ..., -1.7745, -2.0098, -1.9706]],\n",
       "\n",
       "         [[ 1.4804,  1.8333,  1.3431,  ..., -1.5980, -1.6961, -1.8137],\n",
       "          [ 0.2059, -0.0686, -0.5392,  ..., -1.6961, -1.7549, -1.8333],\n",
       "          [-0.5980, -1.0294, -0.7549,  ..., -1.7941, -1.7941, -1.8137],\n",
       "          ...,\n",
       "          [-1.7941, -1.7941, -1.7941,  ..., -1.4608, -1.4608, -1.3431],\n",
       "          [-1.7941, -1.7941, -1.7745,  ..., -1.4804, -1.5784, -1.5196],\n",
       "          [-1.7353, -1.7353, -1.7157,  ..., -1.5392, -1.7745, -1.7353]]]])"
      ]
     },
     "execution_count": 396,
     "metadata": {},
     "output_type": "execute_result"
    }
   ],
   "source": [
    "a = loader\n",
    "next(iter(a))"
   ]
  },
  {
   "cell_type": "code",
   "execution_count": 391,
   "id": "2c55d852-f481-432b-b234-f247ad4692e3",
   "metadata": {},
   "outputs": [],
   "source": [
    "device = torch.device('cuda')\n",
    "#model.eval()"
   ]
  },
  {
   "cell_type": "code",
   "execution_count": 340,
   "id": "8b0d297a-4e27-4dc0-ad27-6ce2ad54d3b1",
   "metadata": {},
   "outputs": [
    {
     "name": "stdout",
     "output_type": "stream",
     "text": [
      "test inference is done!\n"
     ]
    }
   ],
   "source": [
    "all_predictions = []\n",
    "for images in loader:\n",
    "    with torch.no_grad():\n",
    "        images = images.to(device)\n",
    "        pred = model(images)\n",
    "        pred = pred.argmax(dim=-1)\n",
    "        all_predictions.extend(pred.cpu().numpy())\n",
    "submission['ans'] = all_predictions\n",
    "\n",
    "# 제출할 파일을 저장합니다.\n",
    "submission.to_csv(os.path.join(test_dir, 'submission2.csv'), index=False)\n",
    "print('test inference is done!')"
   ]
  },
  {
   "cell_type": "code",
   "execution_count": null,
   "id": "101fecd1-5339-4481-a703-5cdce39f81be",
   "metadata": {},
   "outputs": [],
   "source": []
  },
  {
   "cell_type": "code",
   "execution_count": null,
   "id": "f36bef77-4fc0-45ca-9c31-6d2a2df25519",
   "metadata": {},
   "outputs": [],
   "source": []
  },
  {
   "cell_type": "code",
   "execution_count": null,
   "id": "651eda45-ac61-40b0-a007-2ca2fcb6ff4e",
   "metadata": {},
   "outputs": [],
   "source": []
  },
  {
   "cell_type": "code",
   "execution_count": null,
   "id": "6f622a14-d63f-42f8-89f6-4d40c7160503",
   "metadata": {},
   "outputs": [],
   "source": []
  }
 ],
 "metadata": {
  "kernelspec": {
   "display_name": "Python 3",
   "language": "python",
   "name": "python3"
  },
  "language_info": {
   "codemirror_mode": {
    "name": "ipython",
    "version": 3
   },
   "file_extension": ".py",
   "mimetype": "text/x-python",
   "name": "python",
   "nbconvert_exporter": "python",
   "pygments_lexer": "ipython3",
   "version": "3.8.5"
  }
 },
 "nbformat": 4,
 "nbformat_minor": 5
}
