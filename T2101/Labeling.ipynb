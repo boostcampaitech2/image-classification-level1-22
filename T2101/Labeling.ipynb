{
 "cells": [
  {
   "cell_type": "code",
   "execution_count": 1,
   "id": "2301746f-2361-4740-82f6-d92efc5670f2",
   "metadata": {},
   "outputs": [],
   "source": [
    "import os\n",
    "import pandas as pd\n",
    "import re\n",
    "import torch\n",
    "from tqdm import tqdm"
   ]
  },
  {
   "cell_type": "code",
   "execution_count": 2,
   "id": "1e99c2b6-171f-4cc6-b75f-157d0f10391f",
   "metadata": {},
   "outputs": [
    {
     "name": "stderr",
     "output_type": "stream",
     "text": [
      "100%|██████████████████████████████████████████████████████████| 2700/2700 [00:07<00:00, 345.61it/s]\n",
      "320it [00:00, 1597.41it/s]"
     ]
    },
    {
     "name": "stdout",
     "output_type": "stream",
     "text": [
      "Labeling object has been created\n"
     ]
    },
    {
     "name": "stderr",
     "output_type": "stream",
     "text": [
      "18900it [00:11, 1699.76it/s]\n"
     ]
    },
    {
     "name": "stdout",
     "output_type": "stream",
     "text": [
      "labels have been added.\n",
      "csv file has been created.\n"
     ]
    }
   ],
   "source": [
    "class Labeling:\n",
    "    def __init__(self, path, drop_features=[]):\n",
    "        self.path = path\n",
    "        self.data = pd.read_csv(path + 'train.csv')\n",
    "        self.df = self._make_dataframe(drop_features)\n",
    "        print(\"Labeling object has been created\")\n",
    "        \n",
    "    def _make_dataframe(self, drop_features):\n",
    "        img_dirs = self.data['path']\n",
    "        df = self.data.drop(columns=drop_features)\n",
    "        df['path'] = img_dirs\n",
    "        df = df.rename(columns={'path':'img_dir'})\n",
    "        df = self._merge_mask_data(df)\n",
    "        df = df.drop(columns='img_dir')\n",
    "        return df\n",
    "        \n",
    "    def _get_img_file_list(self, path):\n",
    "        file_list = os.listdir(path)\n",
    "        return [file for file in file_list if not file.startswith('.')]\n",
    "    \n",
    "    def _make_mask_data(self, img_name):\n",
    "        if img_name.startswith('mask'):\n",
    "            return 'Wear'\n",
    "        elif img_name.startswith('normal'):\n",
    "            return 'Not Wear'\n",
    "        elif img_name.startswith('incorrect'):\n",
    "            return 'Incorrect'\n",
    "        else:\n",
    "            raise NameError(f'invalid name {img_name}')\n",
    "    \n",
    "    def _merge_mask_data(self, df):\n",
    "        joined_df = pd.DataFrame()\n",
    "        for img_dir in tqdm(df['img_dir'], ncols=100):\n",
    "            label_df = pd.DataFrame(columns=['img_dir', 'path', 'mask', 'label'])\n",
    "            img_path = os.path.join(self.path, 'images', img_dir)\n",
    "            img_list = self._get_img_file_list(img_path)\n",
    "            labels = list(map(self._make_mask_data, img_list))\n",
    "            \n",
    "            label_df['mask'] = labels\n",
    "            label_df['path'] = img_list\n",
    "            label_df['path'] = img_path + '/' + label_df['path']\n",
    "            label_df['img_dir'] = img_dir\n",
    "            \n",
    "            joined_df = joined_df.append(label_df, ignore_index=True)\n",
    "            \n",
    "        df = pd.merge(left=df, right=joined_df, how='outer', on='img_dir')\n",
    "        return df\n",
    "                \n",
    "    def _check_age(self, age):\n",
    "        if age < 30:\n",
    "            return 0\n",
    "        if age >= 60:\n",
    "            return 2\n",
    "        return 1\n",
    "        \n",
    "    def _check_gender(self, gender):\n",
    "        if gender == \"male\":\n",
    "            return 0\n",
    "        if gender == \"female\":\n",
    "            return 1\n",
    "    \n",
    "    def _check_mask(self, mask):\n",
    "        if mask == 'Wear':\n",
    "            return 0\n",
    "        if mask == 'Incorrect':\n",
    "            return 1\n",
    "        if mask == 'Not Wear':\n",
    "            return 2\n",
    "    \n",
    "    def _labeling(self, series):\n",
    "        age = self._check_age(series['age'])\n",
    "        gender = 3*self._check_gender(series['gender'])\n",
    "        mask = 6*self._check_mask(series['mask'])\n",
    "        return age + gender + mask\n",
    "        \n",
    "    def labeling(self):\n",
    "        for idx, series in tqdm(self.df.iterrows(), ncols=100):\n",
    "            self.df.loc[idx, 'label'] = self._labeling(series)\n",
    "        print(\"labels have been added.\")\n",
    "    \n",
    "    def to_csv_file(self, path, file_name=\"train_with_label.csv\"):\n",
    "        self.df.to_csv(os.path.join(path, file_name), index=False)\n",
    "        print(\"csv file has been created.\")\n",
    "        \n",
    "    \n",
    "if __name__ == '__main__':\n",
    "    train_path = '/opt/ml/input/data/train/'\n",
    "    labeling = Labeling(train_path)\n",
    "    labeling.labeling()\n",
    "    labeling.to_csv_file(train_path, file_name='train_with_label.csv')"
   ]
  },
  {
   "cell_type": "markdown",
   "id": "ee4113bf-2000-4b23-8c41-cdcc3fcfef50",
   "metadata": {
    "jp-MarkdownHeadingCollapsed": true,
    "tags": []
   },
   "source": [
    "# Test"
   ]
  },
  {
   "cell_type": "code",
   "execution_count": 300,
   "id": "3868af15-034e-4c01-a5e8-828043f0846e",
   "metadata": {},
   "outputs": [
    {
     "name": "stdout",
     "output_type": "stream",
     "text": [
      "    gender  age                            path  mask class\n",
      "854   male   29  000309_male_Asian_29/mask1.jpg  Wear     0\n",
      "   gender  age                            path  mask class\n",
      "14   male   54  000004_male_Asian_54/mask1.jpg  Wear     1\n",
      "     gender  age                            path  mask class\n",
      "2912   male   60  001038_male_Asian_60/mask1.jpg  Wear     2\n",
      "     gender  age                              path  mask class\n",
      "462  female   25  000225_female_Asian_25/mask1.jpg  Wear     3\n",
      "   gender  age                              path  mask class\n",
      "0  female   45  000001_female_Asian_45/mask1.jpg  Wear     4\n",
      "      gender  age                              path  mask class\n",
      "3101  female   60  001063_female_Asian_60/mask1.jpg  Wear     5\n",
      "    gender  age                                     path       mask class\n",
      "860   male   29  000309_male_Asian_29/incorrect_mask.jpg  Incorrect     6\n",
      "   gender  age                                     path       mask class\n",
      "20   male   54  000004_male_Asian_54/incorrect_mask.jpg  Incorrect     7\n",
      "     gender  age                                     path       mask class\n",
      "2918   male   60  001038_male_Asian_60/incorrect_mask.jpg  Incorrect     8\n",
      "     gender  age                                       path       mask class\n",
      "468  female   25  000225_female_Asian_25/incorrect_mask.jpg  Incorrect     9\n",
      "   gender  age                                       path       mask class\n",
      "6  female   45  000001_female_Asian_45/incorrect_mask.jpg  Incorrect    10\n",
      "      gender  age                                       path       mask class\n",
      "3107  female   60  001063_female_Asian_60/incorrect_mask.jpg  Incorrect    11\n",
      "    gender  age                             path      mask class\n",
      "858   male   29  000309_male_Asian_29/normal.jpg  Not Wear    12\n",
      "   gender  age                             path      mask class\n",
      "18   male   54  000004_male_Asian_54/normal.jpg  Not Wear    13\n",
      "     gender  age                             path      mask class\n",
      "2916   male   60  001038_male_Asian_60/normal.jpg  Not Wear    14\n",
      "     gender  age                               path      mask class\n",
      "466  female   25  000225_female_Asian_25/normal.jpg  Not Wear    15\n",
      "   gender  age                               path      mask class\n",
      "4  female   45  000001_female_Asian_45/normal.jpg  Not Wear    16\n",
      "      gender  age                               path      mask class\n",
      "3105  female   60  001063_female_Asian_60/normal.jpg  Not Wear    17\n"
     ]
    }
   ],
   "source": [
    "for i in range(18):\n",
    "    c = labeling.df['class'] == i\n",
    "    print(labeling.df[c].head(1))\n",
    "    "
   ]
  },
  {
   "cell_type": "code",
   "execution_count": 260,
   "id": "7e4838b8-a9c3-45c4-95d1-2698b80da853",
   "metadata": {},
   "outputs": [
    {
     "name": "stdout",
     "output_type": "stream",
     "text": [
      "gender                              female\n",
      "age                                     45\n",
      "path      000001_female_Asian_45/mask1.jpg\n",
      "mask                                  None\n",
      "class                                  NaN\n",
      "Name: 0, dtype: object\n",
      "<class 'pandas.core.series.Series'>\n"
     ]
    }
   ],
   "source": [
    "idx = 0\n",
    "for idx, sr in labeling.df.iterrows():\n",
    "    print(sr)\n",
    "    print(type(sr))\n",
    "    idx += 1\n",
    "    if idx > 0:\n",
    "        break"
   ]
  },
  {
   "cell_type": "code",
   "execution_count": 34,
   "id": "6d734950-48c7-47d2-8177-0068d769957b",
   "metadata": {},
   "outputs": [
    {
     "name": "stdout",
     "output_type": "stream",
     "text": [
      "<bound method NDFrame.head of           id  gender   race  age                    path\n",
      "0     000001  female  Asian   45  000001_female_Asian_45\n",
      "1     000002  female  Asian   52  000002_female_Asian_52\n",
      "2     000004    male  Asian   54    000004_male_Asian_54\n",
      "3     000005  female  Asian   58  000005_female_Asian_58\n",
      "4     000006  female  Asian   59  000006_female_Asian_59\n",
      "...      ...     ...    ...  ...                     ...\n",
      "2695  006954    male  Asian   19    006954_male_Asian_19\n",
      "2696  006955    male  Asian   19    006955_male_Asian_19\n",
      "2697  006956    male  Asian   19    006956_male_Asian_19\n",
      "2698  006957    male  Asian   20    006957_male_Asian_20\n",
      "2699  006959    male  Asian   19    006959_male_Asian_19\n",
      "\n",
      "[2700 rows x 5 columns]>\n",
      "Index(['id', 'gender', 'race', 'age', 'path'], dtype='object')\n",
      "['0', '1', '2', '3', '4', '5', '6', '7', '8', '9', '10', '11', '12', '13', '14', '15', '16', '17']\n",
      "../input/data/train/images/000001_female_Asian_45/\n",
      "['mask1.jpg',\n",
      " '._mask5.jpg',\n",
      " '._mask1.jpg',\n",
      " '._normal.jpg',\n",
      " 'mask2.jpg',\n",
      " '._mask2.jpg',\n",
      " '._incorrect_mask.jpg',\n",
      " 'mask5.jpg',\n",
      " 'mask3.jpg',\n",
      " 'normal.jpg',\n",
      " 'mask4.jpg',\n",
      " '._mask4.jpg',\n",
      " 'incorrect_mask.jpg',\n",
      " '._mask3.jpg']\n"
     ]
    }
   ],
   "source": [
    "import os\n",
    "import pandas as pd\n",
    "import pprint\n",
    "\n",
    "path = '../input/data/train/'\n",
    "file_name = 'train.csv'\n",
    "train_file_name = path + file_name\n",
    "\n",
    "df = pd.read_csv(train_file_name)\n",
    "print(df.head)\n",
    "print(df.columns)\n",
    "\n",
    "classes = [str(i) for i in range(18)]\n",
    "print(classes)\n",
    "\n",
    "file_path = df.loc[0, 'path'] + '/'\n",
    "image_path = path + 'images/'\n",
    "print(image_path + file_path)\n",
    "\n",
    "pprint.pprint(os.listdir(image_path + file_path))"
   ]
  },
  {
   "cell_type": "code",
   "execution_count": 301,
   "id": "71e4d79a-664a-43c8-8fe1-ebb4b069f641",
   "metadata": {},
   "outputs": [
    {
     "data": {
      "text/plain": [
       "True"
      ]
     },
     "execution_count": 301,
     "metadata": {},
     "output_type": "execute_result"
    }
   ],
   "source": [
    "'._incorrect_mask.jpg'.startswith('.')"
   ]
  },
  {
   "cell_type": "code",
   "execution_count": null,
   "id": "db7a2f43-7f95-4440-9572-a52584acc3e3",
   "metadata": {},
   "outputs": [],
   "source": []
  }
 ],
 "metadata": {
  "kernelspec": {
   "display_name": "Python 3 (ipykernel)",
   "language": "python",
   "name": "python3"
  },
  "language_info": {
   "codemirror_mode": {
    "name": "ipython",
    "version": 3
   },
   "file_extension": ".py",
   "mimetype": "text/x-python",
   "name": "python",
   "nbconvert_exporter": "python",
   "pygments_lexer": "ipython3",
   "version": "3.8.5"
  }
 },
 "nbformat": 4,
 "nbformat_minor": 5
}
